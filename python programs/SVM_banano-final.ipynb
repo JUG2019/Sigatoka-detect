{
 "cells": [
  {
   "cell_type": "markdown",
   "metadata": {},
   "source": [
    "# Support Vector Machines\n",
    "# Banana leaves "
   ]
  },
  {
   "cell_type": "code",
   "execution_count": 47,
   "metadata": {},
   "outputs": [],
   "source": [
    "import pandas as pd\n",
    "import seaborn as sns\n",
    "import numpy as np\n",
    "from scipy import stats\n",
    "import matplotlib.pyplot as plt\n",
    "%matplotlib inline \n",
    "from plotnine import *\n",
    "\n",
    "import nltk\n",
    "from sklearn.feature_extraction.text import CountVectorizer\n",
    "from sklearn.metrics import classification_report, confusion_matrix, accuracy_score, roc_auc_score, auc\n",
    "\n",
    "import re\n",
    "import string\n",
    "\n",
    "from sklearn.model_selection import train_test_split\n",
    "from sklearn import svm\n",
    "#Import scikit-learn metrics module for accuracy calculation\n",
    "from sklearn import metrics\n",
    "\n"
   ]
  },
  {
   "cell_type": "markdown",
   "metadata": {},
   "source": [
    "## Prepare data"
   ]
  },
  {
   "cell_type": "code",
   "execution_count": 3,
   "metadata": {
    "scrolled": true
   },
   "outputs": [],
   "source": [
    "#load data training data set\n",
    "dir_file1= \"D:/ugarte/datos/datos ban 03 2019/\"\n",
    "datos = pd.read_csv(\"D:/ugarte/datos/datos ban 03 2019/datos032019.csv\", header = None, encoding=\"ISO-8859-1\")\n",
    "\n",
    "# load data testing data set\n",
    "dir_file2= \"D:/ugarte/datos/datos ban 03 2019 adicionales/\"\n",
    "datos_add = pd.read_csv(\"D:/ugarte/datos/datos ban 03 2019 adicionales/datos_add_03_2019.csv\", header= None, encoding=\"ISO-8859-1\")"
   ]
  },
  {
   "cell_type": "code",
   "execution_count": 4,
   "metadata": {
    "scrolled": false
   },
   "outputs": [
    {
     "data": {
      "text/html": [
       "<div>\n",
       "<style scoped>\n",
       "    .dataframe tbody tr th:only-of-type {\n",
       "        vertical-align: middle;\n",
       "    }\n",
       "\n",
       "    .dataframe tbody tr th {\n",
       "        vertical-align: top;\n",
       "    }\n",
       "\n",
       "    .dataframe thead th {\n",
       "        text-align: right;\n",
       "    }\n",
       "</style>\n",
       "<table border=\"1\" class=\"dataframe\">\n",
       "  <thead>\n",
       "    <tr style=\"text-align: right;\">\n",
       "      <th></th>\n",
       "      <th>0</th>\n",
       "      <th>1</th>\n",
       "      <th>2</th>\n",
       "      <th>3</th>\n",
       "      <th>4</th>\n",
       "      <th>5</th>\n",
       "      <th>6</th>\n",
       "      <th>7</th>\n",
       "      <th>8</th>\n",
       "      <th>9</th>\n",
       "      <th>...</th>\n",
       "      <th>517</th>\n",
       "      <th>518</th>\n",
       "      <th>519</th>\n",
       "      <th>520</th>\n",
       "      <th>521</th>\n",
       "      <th>522</th>\n",
       "      <th>523</th>\n",
       "      <th>524</th>\n",
       "      <th>525</th>\n",
       "      <th>526</th>\n",
       "    </tr>\n",
       "  </thead>\n",
       "  <tbody>\n",
       "    <tr>\n",
       "      <th>0</th>\n",
       "      <td>Experimento-2017-03-06 22-41-24</td>\n",
       "      <td>0</td>\n",
       "      <td>0</td>\n",
       "      <td>NaN</td>\n",
       "      <td>NaN</td>\n",
       "      <td>NaN</td>\n",
       "      <td>0</td>\n",
       "      <td>-1.36550</td>\n",
       "      <td>-1.29233</td>\n",
       "      <td>-1.24450</td>\n",
       "      <td>...</td>\n",
       "      <td>0.447115</td>\n",
       "      <td>0.434602</td>\n",
       "      <td>0.423581</td>\n",
       "      <td>0.419928</td>\n",
       "      <td>0.424751</td>\n",
       "      <td>0.411005</td>\n",
       "      <td>0.363284</td>\n",
       "      <td>0.267281</td>\n",
       "      <td>0.108693</td>\n",
       "      <td>-0.126786</td>\n",
       "    </tr>\n",
       "    <tr>\n",
       "      <th>1</th>\n",
       "      <td>Experimento-2017-03-06 22-46-23</td>\n",
       "      <td>0</td>\n",
       "      <td>0</td>\n",
       "      <td>NaN</td>\n",
       "      <td>NaN</td>\n",
       "      <td>NaN</td>\n",
       "      <td>0</td>\n",
       "      <td>-1.42869</td>\n",
       "      <td>-1.37927</td>\n",
       "      <td>-1.34058</td>\n",
       "      <td>...</td>\n",
       "      <td>0.415980</td>\n",
       "      <td>0.400377</td>\n",
       "      <td>0.386112</td>\n",
       "      <td>0.388219</td>\n",
       "      <td>0.388622</td>\n",
       "      <td>0.368908</td>\n",
       "      <td>0.305681</td>\n",
       "      <td>0.181058</td>\n",
       "      <td>-0.022847</td>\n",
       "      <td>-0.323918</td>\n",
       "    </tr>\n",
       "    <tr>\n",
       "      <th>2</th>\n",
       "      <td>Experimento-2017-03-06 22-53-36</td>\n",
       "      <td>0</td>\n",
       "      <td>0</td>\n",
       "      <td>NaN</td>\n",
       "      <td>NaN</td>\n",
       "      <td>NaN</td>\n",
       "      <td>0</td>\n",
       "      <td>-1.50772</td>\n",
       "      <td>-1.40196</td>\n",
       "      <td>-1.33078</td>\n",
       "      <td>...</td>\n",
       "      <td>0.388993</td>\n",
       "      <td>0.375646</td>\n",
       "      <td>0.370111</td>\n",
       "      <td>0.375721</td>\n",
       "      <td>0.353518</td>\n",
       "      <td>0.317616</td>\n",
       "      <td>0.238967</td>\n",
       "      <td>0.102364</td>\n",
       "      <td>-0.107399</td>\n",
       "      <td>-0.405529</td>\n",
       "    </tr>\n",
       "    <tr>\n",
       "      <th>3</th>\n",
       "      <td>Experimento-2017-03-06 22-59-21</td>\n",
       "      <td>0</td>\n",
       "      <td>0</td>\n",
       "      <td>NaN</td>\n",
       "      <td>NaN</td>\n",
       "      <td>NaN</td>\n",
       "      <td>0</td>\n",
       "      <td>-1.52557</td>\n",
       "      <td>-1.41888</td>\n",
       "      <td>-1.34723</td>\n",
       "      <td>...</td>\n",
       "      <td>0.374147</td>\n",
       "      <td>0.359637</td>\n",
       "      <td>0.349435</td>\n",
       "      <td>0.356607</td>\n",
       "      <td>0.350981</td>\n",
       "      <td>0.324556</td>\n",
       "      <td>0.250602</td>\n",
       "      <td>0.110811</td>\n",
       "      <td>-0.113126</td>\n",
       "      <td>-0.439516</td>\n",
       "    </tr>\n",
       "    <tr>\n",
       "      <th>4</th>\n",
       "      <td>Experimento-2017-03-06 23-04-04</td>\n",
       "      <td>0</td>\n",
       "      <td>0</td>\n",
       "      <td>NaN</td>\n",
       "      <td>NaN</td>\n",
       "      <td>NaN</td>\n",
       "      <td>0</td>\n",
       "      <td>-1.54111</td>\n",
       "      <td>-1.43158</td>\n",
       "      <td>-1.35953</td>\n",
       "      <td>...</td>\n",
       "      <td>0.386988</td>\n",
       "      <td>0.373917</td>\n",
       "      <td>0.364846</td>\n",
       "      <td>0.369234</td>\n",
       "      <td>0.355048</td>\n",
       "      <td>0.322346</td>\n",
       "      <td>0.245063</td>\n",
       "      <td>0.106896</td>\n",
       "      <td>-0.108459</td>\n",
       "      <td>-0.417305</td>\n",
       "    </tr>\n",
       "  </tbody>\n",
       "</table>\n",
       "<p>5 rows × 527 columns</p>\n",
       "</div>"
      ],
      "text/plain": [
       "                               0    1    2    3    4    5    6        7    \\\n",
       "0  Experimento-2017-03-06 22-41-24    0    0  NaN  NaN  NaN    0 -1.36550   \n",
       "1  Experimento-2017-03-06 22-46-23    0    0  NaN  NaN  NaN    0 -1.42869   \n",
       "2  Experimento-2017-03-06 22-53-36    0    0  NaN  NaN  NaN    0 -1.50772   \n",
       "3  Experimento-2017-03-06 22-59-21    0    0  NaN  NaN  NaN    0 -1.52557   \n",
       "4  Experimento-2017-03-06 23-04-04    0    0  NaN  NaN  NaN    0 -1.54111   \n",
       "\n",
       "       8        9    ...       517       518       519       520       521  \\\n",
       "0 -1.29233 -1.24450  ...  0.447115  0.434602  0.423581  0.419928  0.424751   \n",
       "1 -1.37927 -1.34058  ...  0.415980  0.400377  0.386112  0.388219  0.388622   \n",
       "2 -1.40196 -1.33078  ...  0.388993  0.375646  0.370111  0.375721  0.353518   \n",
       "3 -1.41888 -1.34723  ...  0.374147  0.359637  0.349435  0.356607  0.350981   \n",
       "4 -1.43158 -1.35953  ...  0.386988  0.373917  0.364846  0.369234  0.355048   \n",
       "\n",
       "        522       523       524       525       526  \n",
       "0  0.411005  0.363284  0.267281  0.108693 -0.126786  \n",
       "1  0.368908  0.305681  0.181058 -0.022847 -0.323918  \n",
       "2  0.317616  0.238967  0.102364 -0.107399 -0.405529  \n",
       "3  0.324556  0.250602  0.110811 -0.113126 -0.439516  \n",
       "4  0.322346  0.245063  0.106896 -0.108459 -0.417305  \n",
       "\n",
       "[5 rows x 527 columns]"
      ]
     },
     "execution_count": 4,
     "metadata": {},
     "output_type": "execute_result"
    }
   ],
   "source": [
    "datos.head()"
   ]
  },
  {
   "cell_type": "code",
   "execution_count": 5,
   "metadata": {
    "scrolled": true
   },
   "outputs": [
    {
     "name": "stdout",
     "output_type": "stream",
     "text": [
      "There are 136 observations and 527 features\n"
     ]
    }
   ],
   "source": [
    "print(f'There are {datos.shape[0]} observations and {datos.shape[1]} features')"
   ]
  },
  {
   "cell_type": "code",
   "execution_count": 6,
   "metadata": {},
   "outputs": [
    {
     "data": {
      "text/plain": [
       "0     0\n",
       "1     0\n",
       "2     0\n",
       "3     0\n",
       "4     0\n",
       "5     0\n",
       "6     0\n",
       "7     0\n",
       "8     0\n",
       "9     0\n",
       "10    0\n",
       "11    0\n",
       "12    0\n",
       "13    0\n",
       "14    0\n",
       "15    0\n",
       "16    2\n",
       "17    2\n",
       "18    2\n",
       "19    2\n",
       "20    2\n",
       "21    2\n",
       "22    2\n",
       "23    2\n",
       "24    2\n",
       "25    3\n",
       "26    2\n",
       "27    3\n",
       "28    2\n",
       "29    1\n",
       "30    3\n",
       "31    3\n",
       "Name: 1, dtype: int64"
      ]
     },
     "execution_count": 6,
     "metadata": {},
     "output_type": "execute_result"
    }
   ],
   "source": [
    "datos_add[1]"
   ]
  },
  {
   "cell_type": "code",
   "execution_count": 7,
   "metadata": {},
   "outputs": [
    {
     "name": "stdout",
     "output_type": "stream",
     "text": [
      "32\n",
      "There are 32 observations and 527 features\n"
     ]
    }
   ],
   "source": [
    "nfilas_datos_add = datos_add.shape[0]\n",
    "print(nfilas_datos_add)\n",
    "print(f'There are {datos_add.shape[0]} observations and {datos_add.shape[1]} features')"
   ]
  },
  {
   "cell_type": "code",
   "execution_count": 8,
   "metadata": {},
   "outputs": [],
   "source": [
    "datos1= datos[datos[6]!=1]"
   ]
  },
  {
   "cell_type": "code",
   "execution_count": 9,
   "metadata": {},
   "outputs": [
    {
     "data": {
      "text/html": [
       "<div>\n",
       "<style scoped>\n",
       "    .dataframe tbody tr th:only-of-type {\n",
       "        vertical-align: middle;\n",
       "    }\n",
       "\n",
       "    .dataframe tbody tr th {\n",
       "        vertical-align: top;\n",
       "    }\n",
       "\n",
       "    .dataframe thead th {\n",
       "        text-align: right;\n",
       "    }\n",
       "</style>\n",
       "<table border=\"1\" class=\"dataframe\">\n",
       "  <thead>\n",
       "    <tr style=\"text-align: right;\">\n",
       "      <th></th>\n",
       "      <th>0</th>\n",
       "      <th>1</th>\n",
       "      <th>2</th>\n",
       "      <th>3</th>\n",
       "      <th>4</th>\n",
       "    </tr>\n",
       "  </thead>\n",
       "  <tbody>\n",
       "    <tr>\n",
       "      <th>0</th>\n",
       "      <td>Experimento-2017-03-06 22-41-24</td>\n",
       "      <td>0</td>\n",
       "      <td>0</td>\n",
       "      <td>NaN</td>\n",
       "      <td>NaN</td>\n",
       "    </tr>\n",
       "    <tr>\n",
       "      <th>1</th>\n",
       "      <td>Experimento-2017-03-06 22-46-23</td>\n",
       "      <td>0</td>\n",
       "      <td>0</td>\n",
       "      <td>NaN</td>\n",
       "      <td>NaN</td>\n",
       "    </tr>\n",
       "    <tr>\n",
       "      <th>2</th>\n",
       "      <td>Experimento-2017-03-06 22-53-36</td>\n",
       "      <td>0</td>\n",
       "      <td>0</td>\n",
       "      <td>NaN</td>\n",
       "      <td>NaN</td>\n",
       "    </tr>\n",
       "    <tr>\n",
       "      <th>3</th>\n",
       "      <td>Experimento-2017-03-06 22-59-21</td>\n",
       "      <td>0</td>\n",
       "      <td>0</td>\n",
       "      <td>NaN</td>\n",
       "      <td>NaN</td>\n",
       "    </tr>\n",
       "    <tr>\n",
       "      <th>4</th>\n",
       "      <td>Experimento-2017-03-06 23-04-04</td>\n",
       "      <td>0</td>\n",
       "      <td>0</td>\n",
       "      <td>NaN</td>\n",
       "      <td>NaN</td>\n",
       "    </tr>\n",
       "    <tr>\n",
       "      <th>5</th>\n",
       "      <td>Experimento-2017-03-06 23-09-25</td>\n",
       "      <td>0</td>\n",
       "      <td>0</td>\n",
       "      <td>NaN</td>\n",
       "      <td>NaN</td>\n",
       "    </tr>\n",
       "    <tr>\n",
       "      <th>6</th>\n",
       "      <td>Experimento-2017-03-15 16-59-58</td>\n",
       "      <td>0</td>\n",
       "      <td>0</td>\n",
       "      <td>NaN</td>\n",
       "      <td>NaN</td>\n",
       "    </tr>\n",
       "    <tr>\n",
       "      <th>7</th>\n",
       "      <td>Experimento-2017-03-15 17-04-41</td>\n",
       "      <td>0</td>\n",
       "      <td>0</td>\n",
       "      <td>NaN</td>\n",
       "      <td>NaN</td>\n",
       "    </tr>\n",
       "    <tr>\n",
       "      <th>9</th>\n",
       "      <td>Experimento-2017-03-15 17-13-02</td>\n",
       "      <td>0</td>\n",
       "      <td>0</td>\n",
       "      <td>NaN</td>\n",
       "      <td>NaN</td>\n",
       "    </tr>\n",
       "    <tr>\n",
       "      <th>10</th>\n",
       "      <td>Experimento-2017-03-15 17-16-37</td>\n",
       "      <td>0</td>\n",
       "      <td>0</td>\n",
       "      <td>NaN</td>\n",
       "      <td>NaN</td>\n",
       "    </tr>\n",
       "    <tr>\n",
       "      <th>11</th>\n",
       "      <td>Experimento-2017-03-15 17-26-58</td>\n",
       "      <td>0</td>\n",
       "      <td>0</td>\n",
       "      <td>NaN</td>\n",
       "      <td>NaN</td>\n",
       "    </tr>\n",
       "    <tr>\n",
       "      <th>12</th>\n",
       "      <td>Experimento-2017-03-20 16-50-08</td>\n",
       "      <td>0</td>\n",
       "      <td>0</td>\n",
       "      <td>NaN</td>\n",
       "      <td>NaN</td>\n",
       "    </tr>\n",
       "    <tr>\n",
       "      <th>13</th>\n",
       "      <td>Experimento-2017-03-20 17-16-05</td>\n",
       "      <td>0</td>\n",
       "      <td>0</td>\n",
       "      <td>NaN</td>\n",
       "      <td>NaN</td>\n",
       "    </tr>\n",
       "    <tr>\n",
       "      <th>14</th>\n",
       "      <td>Experimento-2017-03-22 17-20-08</td>\n",
       "      <td>2</td>\n",
       "      <td>1</td>\n",
       "      <td>NaN</td>\n",
       "      <td>NaN</td>\n",
       "    </tr>\n",
       "    <tr>\n",
       "      <th>15</th>\n",
       "      <td>Experimento-2017-03-22 17-55-49</td>\n",
       "      <td>1</td>\n",
       "      <td>1</td>\n",
       "      <td>NaN</td>\n",
       "      <td>NaN</td>\n",
       "    </tr>\n",
       "    <tr>\n",
       "      <th>16</th>\n",
       "      <td>Experimento-2017-03-22 18-02-15</td>\n",
       "      <td>2</td>\n",
       "      <td>1</td>\n",
       "      <td>NaN</td>\n",
       "      <td>NaN</td>\n",
       "    </tr>\n",
       "    <tr>\n",
       "      <th>17</th>\n",
       "      <td>Experimento-2017-03-22 18-03-38</td>\n",
       "      <td>1</td>\n",
       "      <td>1</td>\n",
       "      <td>NaN</td>\n",
       "      <td>NaN</td>\n",
       "    </tr>\n",
       "    <tr>\n",
       "      <th>18</th>\n",
       "      <td>Experimento-2017-03-27 17-12-08</td>\n",
       "      <td>2</td>\n",
       "      <td>1</td>\n",
       "      <td>NaN</td>\n",
       "      <td>NaN</td>\n",
       "    </tr>\n",
       "    <tr>\n",
       "      <th>19</th>\n",
       "      <td>Experimento-2017-03-27 17-29-07</td>\n",
       "      <td>2</td>\n",
       "      <td>1</td>\n",
       "      <td>NaN</td>\n",
       "      <td>NaN</td>\n",
       "    </tr>\n",
       "    <tr>\n",
       "      <th>20</th>\n",
       "      <td>Experimento-2017-03-27 17-35-12</td>\n",
       "      <td>2</td>\n",
       "      <td>1</td>\n",
       "      <td>NaN</td>\n",
       "      <td>NaN</td>\n",
       "    </tr>\n",
       "    <tr>\n",
       "      <th>21</th>\n",
       "      <td>Experimento-2017-03-27 17-46-22</td>\n",
       "      <td>2</td>\n",
       "      <td>1</td>\n",
       "      <td>NaN</td>\n",
       "      <td>NaN</td>\n",
       "    </tr>\n",
       "    <tr>\n",
       "      <th>22</th>\n",
       "      <td>Experimento-2017-03-27 18-03-23</td>\n",
       "      <td>0</td>\n",
       "      <td>0</td>\n",
       "      <td>NaN</td>\n",
       "      <td>NaN</td>\n",
       "    </tr>\n",
       "    <tr>\n",
       "      <th>23</th>\n",
       "      <td>Experimento-2017-03-27 18-12-37</td>\n",
       "      <td>0</td>\n",
       "      <td>0</td>\n",
       "      <td>NaN</td>\n",
       "      <td>NaN</td>\n",
       "    </tr>\n",
       "    <tr>\n",
       "      <th>24</th>\n",
       "      <td>Experimento-2017-03-29 18-32-33</td>\n",
       "      <td>0</td>\n",
       "      <td>0</td>\n",
       "      <td>NaN</td>\n",
       "      <td>NaN</td>\n",
       "    </tr>\n",
       "    <tr>\n",
       "      <th>27</th>\n",
       "      <td>Experimento-2017-03-31 18-26-26</td>\n",
       "      <td>2</td>\n",
       "      <td>1</td>\n",
       "      <td>NaN</td>\n",
       "      <td>NaN</td>\n",
       "    </tr>\n",
       "    <tr>\n",
       "      <th>28</th>\n",
       "      <td>Experimento-2017-03-31 18-30-36</td>\n",
       "      <td>2</td>\n",
       "      <td>1</td>\n",
       "      <td>NaN</td>\n",
       "      <td>NaN</td>\n",
       "    </tr>\n",
       "    <tr>\n",
       "      <th>29</th>\n",
       "      <td>Experimento-2017-03-31 18-36-00</td>\n",
       "      <td>2</td>\n",
       "      <td>1</td>\n",
       "      <td>NaN</td>\n",
       "      <td>NaN</td>\n",
       "    </tr>\n",
       "  </tbody>\n",
       "</table>\n",
       "</div>"
      ],
      "text/plain": [
       "                                  0  1  2   3   4\n",
       "0   Experimento-2017-03-06 22-41-24  0  0 NaN NaN\n",
       "1   Experimento-2017-03-06 22-46-23  0  0 NaN NaN\n",
       "2   Experimento-2017-03-06 22-53-36  0  0 NaN NaN\n",
       "3   Experimento-2017-03-06 22-59-21  0  0 NaN NaN\n",
       "4   Experimento-2017-03-06 23-04-04  0  0 NaN NaN\n",
       "5   Experimento-2017-03-06 23-09-25  0  0 NaN NaN\n",
       "6   Experimento-2017-03-15 16-59-58  0  0 NaN NaN\n",
       "7   Experimento-2017-03-15 17-04-41  0  0 NaN NaN\n",
       "9   Experimento-2017-03-15 17-13-02  0  0 NaN NaN\n",
       "10  Experimento-2017-03-15 17-16-37  0  0 NaN NaN\n",
       "11  Experimento-2017-03-15 17-26-58  0  0 NaN NaN\n",
       "12  Experimento-2017-03-20 16-50-08  0  0 NaN NaN\n",
       "13  Experimento-2017-03-20 17-16-05  0  0 NaN NaN\n",
       "14  Experimento-2017-03-22 17-20-08  2  1 NaN NaN\n",
       "15  Experimento-2017-03-22 17-55-49  1  1 NaN NaN\n",
       "16  Experimento-2017-03-22 18-02-15  2  1 NaN NaN\n",
       "17  Experimento-2017-03-22 18-03-38  1  1 NaN NaN\n",
       "18  Experimento-2017-03-27 17-12-08  2  1 NaN NaN\n",
       "19  Experimento-2017-03-27 17-29-07  2  1 NaN NaN\n",
       "20  Experimento-2017-03-27 17-35-12  2  1 NaN NaN\n",
       "21  Experimento-2017-03-27 17-46-22  2  1 NaN NaN\n",
       "22  Experimento-2017-03-27 18-03-23  0  0 NaN NaN\n",
       "23  Experimento-2017-03-27 18-12-37  0  0 NaN NaN\n",
       "24  Experimento-2017-03-29 18-32-33  0  0 NaN NaN\n",
       "27  Experimento-2017-03-31 18-26-26  2  1 NaN NaN\n",
       "28  Experimento-2017-03-31 18-30-36  2  1 NaN NaN\n",
       "29  Experimento-2017-03-31 18-36-00  2  1 NaN NaN"
      ]
     },
     "execution_count": 9,
     "metadata": {},
     "output_type": "execute_result"
    }
   ],
   "source": [
    "datos1.iloc[0:27,0:5]"
   ]
  },
  {
   "cell_type": "code",
   "execution_count": 10,
   "metadata": {},
   "outputs": [],
   "source": [
    "datos1.reset_index(drop=True, inplace=True)"
   ]
  },
  {
   "cell_type": "code",
   "execution_count": 11,
   "metadata": {},
   "outputs": [
    {
     "data": {
      "text/html": [
       "<div>\n",
       "<style scoped>\n",
       "    .dataframe tbody tr th:only-of-type {\n",
       "        vertical-align: middle;\n",
       "    }\n",
       "\n",
       "    .dataframe tbody tr th {\n",
       "        vertical-align: top;\n",
       "    }\n",
       "\n",
       "    .dataframe thead th {\n",
       "        text-align: right;\n",
       "    }\n",
       "</style>\n",
       "<table border=\"1\" class=\"dataframe\">\n",
       "  <thead>\n",
       "    <tr style=\"text-align: right;\">\n",
       "      <th></th>\n",
       "      <th>0</th>\n",
       "      <th>1</th>\n",
       "      <th>2</th>\n",
       "      <th>3</th>\n",
       "      <th>4</th>\n",
       "    </tr>\n",
       "  </thead>\n",
       "  <tbody>\n",
       "    <tr>\n",
       "      <th>0</th>\n",
       "      <td>Experimento-2017-03-06 22-41-24</td>\n",
       "      <td>0</td>\n",
       "      <td>0</td>\n",
       "      <td>NaN</td>\n",
       "      <td>NaN</td>\n",
       "    </tr>\n",
       "    <tr>\n",
       "      <th>1</th>\n",
       "      <td>Experimento-2017-03-06 22-46-23</td>\n",
       "      <td>0</td>\n",
       "      <td>0</td>\n",
       "      <td>NaN</td>\n",
       "      <td>NaN</td>\n",
       "    </tr>\n",
       "    <tr>\n",
       "      <th>2</th>\n",
       "      <td>Experimento-2017-03-06 22-53-36</td>\n",
       "      <td>0</td>\n",
       "      <td>0</td>\n",
       "      <td>NaN</td>\n",
       "      <td>NaN</td>\n",
       "    </tr>\n",
       "    <tr>\n",
       "      <th>3</th>\n",
       "      <td>Experimento-2017-03-06 22-59-21</td>\n",
       "      <td>0</td>\n",
       "      <td>0</td>\n",
       "      <td>NaN</td>\n",
       "      <td>NaN</td>\n",
       "    </tr>\n",
       "    <tr>\n",
       "      <th>4</th>\n",
       "      <td>Experimento-2017-03-06 23-04-04</td>\n",
       "      <td>0</td>\n",
       "      <td>0</td>\n",
       "      <td>NaN</td>\n",
       "      <td>NaN</td>\n",
       "    </tr>\n",
       "    <tr>\n",
       "      <th>5</th>\n",
       "      <td>Experimento-2017-03-06 23-09-25</td>\n",
       "      <td>0</td>\n",
       "      <td>0</td>\n",
       "      <td>NaN</td>\n",
       "      <td>NaN</td>\n",
       "    </tr>\n",
       "    <tr>\n",
       "      <th>6</th>\n",
       "      <td>Experimento-2017-03-15 16-59-58</td>\n",
       "      <td>0</td>\n",
       "      <td>0</td>\n",
       "      <td>NaN</td>\n",
       "      <td>NaN</td>\n",
       "    </tr>\n",
       "    <tr>\n",
       "      <th>7</th>\n",
       "      <td>Experimento-2017-03-15 17-04-41</td>\n",
       "      <td>0</td>\n",
       "      <td>0</td>\n",
       "      <td>NaN</td>\n",
       "      <td>NaN</td>\n",
       "    </tr>\n",
       "    <tr>\n",
       "      <th>8</th>\n",
       "      <td>Experimento-2017-03-15 17-13-02</td>\n",
       "      <td>0</td>\n",
       "      <td>0</td>\n",
       "      <td>NaN</td>\n",
       "      <td>NaN</td>\n",
       "    </tr>\n",
       "    <tr>\n",
       "      <th>9</th>\n",
       "      <td>Experimento-2017-03-15 17-16-37</td>\n",
       "      <td>0</td>\n",
       "      <td>0</td>\n",
       "      <td>NaN</td>\n",
       "      <td>NaN</td>\n",
       "    </tr>\n",
       "    <tr>\n",
       "      <th>10</th>\n",
       "      <td>Experimento-2017-03-15 17-26-58</td>\n",
       "      <td>0</td>\n",
       "      <td>0</td>\n",
       "      <td>NaN</td>\n",
       "      <td>NaN</td>\n",
       "    </tr>\n",
       "    <tr>\n",
       "      <th>11</th>\n",
       "      <td>Experimento-2017-03-20 16-50-08</td>\n",
       "      <td>0</td>\n",
       "      <td>0</td>\n",
       "      <td>NaN</td>\n",
       "      <td>NaN</td>\n",
       "    </tr>\n",
       "    <tr>\n",
       "      <th>12</th>\n",
       "      <td>Experimento-2017-03-20 17-16-05</td>\n",
       "      <td>0</td>\n",
       "      <td>0</td>\n",
       "      <td>NaN</td>\n",
       "      <td>NaN</td>\n",
       "    </tr>\n",
       "    <tr>\n",
       "      <th>13</th>\n",
       "      <td>Experimento-2017-03-22 17-20-08</td>\n",
       "      <td>2</td>\n",
       "      <td>1</td>\n",
       "      <td>NaN</td>\n",
       "      <td>NaN</td>\n",
       "    </tr>\n",
       "    <tr>\n",
       "      <th>14</th>\n",
       "      <td>Experimento-2017-03-22 17-55-49</td>\n",
       "      <td>1</td>\n",
       "      <td>1</td>\n",
       "      <td>NaN</td>\n",
       "      <td>NaN</td>\n",
       "    </tr>\n",
       "    <tr>\n",
       "      <th>15</th>\n",
       "      <td>Experimento-2017-03-22 18-02-15</td>\n",
       "      <td>2</td>\n",
       "      <td>1</td>\n",
       "      <td>NaN</td>\n",
       "      <td>NaN</td>\n",
       "    </tr>\n",
       "    <tr>\n",
       "      <th>16</th>\n",
       "      <td>Experimento-2017-03-22 18-03-38</td>\n",
       "      <td>1</td>\n",
       "      <td>1</td>\n",
       "      <td>NaN</td>\n",
       "      <td>NaN</td>\n",
       "    </tr>\n",
       "    <tr>\n",
       "      <th>17</th>\n",
       "      <td>Experimento-2017-03-27 17-12-08</td>\n",
       "      <td>2</td>\n",
       "      <td>1</td>\n",
       "      <td>NaN</td>\n",
       "      <td>NaN</td>\n",
       "    </tr>\n",
       "    <tr>\n",
       "      <th>18</th>\n",
       "      <td>Experimento-2017-03-27 17-29-07</td>\n",
       "      <td>2</td>\n",
       "      <td>1</td>\n",
       "      <td>NaN</td>\n",
       "      <td>NaN</td>\n",
       "    </tr>\n",
       "    <tr>\n",
       "      <th>19</th>\n",
       "      <td>Experimento-2017-03-27 17-35-12</td>\n",
       "      <td>2</td>\n",
       "      <td>1</td>\n",
       "      <td>NaN</td>\n",
       "      <td>NaN</td>\n",
       "    </tr>\n",
       "    <tr>\n",
       "      <th>20</th>\n",
       "      <td>Experimento-2017-03-27 17-46-22</td>\n",
       "      <td>2</td>\n",
       "      <td>1</td>\n",
       "      <td>NaN</td>\n",
       "      <td>NaN</td>\n",
       "    </tr>\n",
       "    <tr>\n",
       "      <th>21</th>\n",
       "      <td>Experimento-2017-03-27 18-03-23</td>\n",
       "      <td>0</td>\n",
       "      <td>0</td>\n",
       "      <td>NaN</td>\n",
       "      <td>NaN</td>\n",
       "    </tr>\n",
       "    <tr>\n",
       "      <th>22</th>\n",
       "      <td>Experimento-2017-03-27 18-12-37</td>\n",
       "      <td>0</td>\n",
       "      <td>0</td>\n",
       "      <td>NaN</td>\n",
       "      <td>NaN</td>\n",
       "    </tr>\n",
       "    <tr>\n",
       "      <th>23</th>\n",
       "      <td>Experimento-2017-03-29 18-32-33</td>\n",
       "      <td>0</td>\n",
       "      <td>0</td>\n",
       "      <td>NaN</td>\n",
       "      <td>NaN</td>\n",
       "    </tr>\n",
       "    <tr>\n",
       "      <th>24</th>\n",
       "      <td>Experimento-2017-03-31 18-26-26</td>\n",
       "      <td>2</td>\n",
       "      <td>1</td>\n",
       "      <td>NaN</td>\n",
       "      <td>NaN</td>\n",
       "    </tr>\n",
       "    <tr>\n",
       "      <th>25</th>\n",
       "      <td>Experimento-2017-03-31 18-30-36</td>\n",
       "      <td>2</td>\n",
       "      <td>1</td>\n",
       "      <td>NaN</td>\n",
       "      <td>NaN</td>\n",
       "    </tr>\n",
       "    <tr>\n",
       "      <th>26</th>\n",
       "      <td>Experimento-2017-03-31 18-36-00</td>\n",
       "      <td>2</td>\n",
       "      <td>1</td>\n",
       "      <td>NaN</td>\n",
       "      <td>NaN</td>\n",
       "    </tr>\n",
       "  </tbody>\n",
       "</table>\n",
       "</div>"
      ],
      "text/plain": [
       "                                  0  1  2   3   4\n",
       "0   Experimento-2017-03-06 22-41-24  0  0 NaN NaN\n",
       "1   Experimento-2017-03-06 22-46-23  0  0 NaN NaN\n",
       "2   Experimento-2017-03-06 22-53-36  0  0 NaN NaN\n",
       "3   Experimento-2017-03-06 22-59-21  0  0 NaN NaN\n",
       "4   Experimento-2017-03-06 23-04-04  0  0 NaN NaN\n",
       "5   Experimento-2017-03-06 23-09-25  0  0 NaN NaN\n",
       "6   Experimento-2017-03-15 16-59-58  0  0 NaN NaN\n",
       "7   Experimento-2017-03-15 17-04-41  0  0 NaN NaN\n",
       "8   Experimento-2017-03-15 17-13-02  0  0 NaN NaN\n",
       "9   Experimento-2017-03-15 17-16-37  0  0 NaN NaN\n",
       "10  Experimento-2017-03-15 17-26-58  0  0 NaN NaN\n",
       "11  Experimento-2017-03-20 16-50-08  0  0 NaN NaN\n",
       "12  Experimento-2017-03-20 17-16-05  0  0 NaN NaN\n",
       "13  Experimento-2017-03-22 17-20-08  2  1 NaN NaN\n",
       "14  Experimento-2017-03-22 17-55-49  1  1 NaN NaN\n",
       "15  Experimento-2017-03-22 18-02-15  2  1 NaN NaN\n",
       "16  Experimento-2017-03-22 18-03-38  1  1 NaN NaN\n",
       "17  Experimento-2017-03-27 17-12-08  2  1 NaN NaN\n",
       "18  Experimento-2017-03-27 17-29-07  2  1 NaN NaN\n",
       "19  Experimento-2017-03-27 17-35-12  2  1 NaN NaN\n",
       "20  Experimento-2017-03-27 17-46-22  2  1 NaN NaN\n",
       "21  Experimento-2017-03-27 18-03-23  0  0 NaN NaN\n",
       "22  Experimento-2017-03-27 18-12-37  0  0 NaN NaN\n",
       "23  Experimento-2017-03-29 18-32-33  0  0 NaN NaN\n",
       "24  Experimento-2017-03-31 18-26-26  2  1 NaN NaN\n",
       "25  Experimento-2017-03-31 18-30-36  2  1 NaN NaN\n",
       "26  Experimento-2017-03-31 18-36-00  2  1 NaN NaN"
      ]
     },
     "execution_count": 11,
     "metadata": {},
     "output_type": "execute_result"
    }
   ],
   "source": [
    "datos1.iloc[0:27,0:5]"
   ]
  },
  {
   "cell_type": "code",
   "execution_count": 12,
   "metadata": {},
   "outputs": [
    {
     "name": "stdout",
     "output_type": "stream",
     "text": [
      "There are 104 observations and 527 features\n"
     ]
    }
   ],
   "source": [
    "print(f'There are {datos1.shape[0]} observations and {datos1.shape[1]} features')"
   ]
  },
  {
   "cell_type": "code",
   "execution_count": 14,
   "metadata": {},
   "outputs": [],
   "source": [
    "datos2b = datos1.copy()"
   ]
  },
  {
   "cell_type": "code",
   "execution_count": 15,
   "metadata": {},
   "outputs": [
    {
     "name": "stdout",
     "output_type": "stream",
     "text": [
      "104\n",
      "There are 104 observations and 527 features\n"
     ]
    }
   ],
   "source": [
    "nfilas_datos2b  = datos2b.shape[0]\n",
    "print(nfilas_datos2b)\n",
    "print(f'There are {datos2b.shape[0]} observations and {datos2b.shape[1]} features')"
   ]
  },
  {
   "cell_type": "code",
   "execution_count": 16,
   "metadata": {},
   "outputs": [
    {
     "data": {
      "text/plain": [
       "54"
      ]
     },
     "execution_count": 16,
     "metadata": {},
     "output_type": "execute_result"
    }
   ],
   "source": [
    "datos2b[datos2b[1]==2][1].count()\n",
    "\n"
   ]
  },
  {
   "cell_type": "code",
   "execution_count": 17,
   "metadata": {},
   "outputs": [
    {
     "name": "stdout",
     "output_type": "stream",
     "text": [
      "There are 136 observations and 527 features\n"
     ]
    }
   ],
   "source": [
    "### preparación de datos escalados (estandarizados)\n",
    "datos3=datos2b.append(datos_add, ignore_index=True)\n",
    "datos3.reset_index(drop=True, inplace=True)\n",
    "print(f'There are {datos3.shape[0]} observations and {datos3.shape[1]} features')\n",
    "datos3_X =datos3.iloc[:,7:]\n",
    "datos3X_est = pd.DataFrame(stats.zscore(datos3_X, axis=1))\n",
    "datos3_Y = datos3.iloc[:,2]"
   ]
  },
  {
   "cell_type": "code",
   "execution_count": 18,
   "metadata": {},
   "outputs": [
    {
     "data": {
      "text/plain": [
       "array([[-1.38200733, -1.30795278, -1.25954457, ...,  0.27051224,\n",
       "         0.11000708, -0.12831861],\n",
       "       [-1.44767482, -1.3975981 , -1.35839398, ...,  0.18346414,\n",
       "        -0.02315093, -0.32822217],\n",
       "       [-1.53189637, -1.4244405 , -1.35211912, ...,  0.10400545,\n",
       "        -0.10912111, -0.41203165],\n",
       "       ...,\n",
       "       [-1.34316199, -1.28397095, -1.23522796, ...,  0.11074169,\n",
       "         0.12040806,  0.15502479],\n",
       "       [-1.32753263, -1.24732142, -1.19026408, ..., -0.0276238 ,\n",
       "        -0.03210932, -0.01262498],\n",
       "       [-1.32278828, -1.32393597, -1.30914593, ..., -0.05240432,\n",
       "        -0.07033946, -0.1185186 ]])"
      ]
     },
     "execution_count": 18,
     "metadata": {},
     "output_type": "execute_result"
    }
   ],
   "source": [
    "datos3X_est.values"
   ]
  },
  {
   "cell_type": "code",
   "execution_count": 19,
   "metadata": {},
   "outputs": [],
   "source": [
    "# For each X, calculate VIF and save in dataframe\n",
    "#vif = pd.DataFrame()\n",
    "#vif[\"VIF Factor\"] = [variance_inflation_factor(datos3X_est.values, i) for i in range(datos3X_est.shape[1])]\n",
    "#vif[\"features\"] = datos3X_est.columns"
   ]
  },
  {
   "cell_type": "code",
   "execution_count": 20,
   "metadata": {},
   "outputs": [
    {
     "name": "stdout",
     "output_type": "stream",
     "text": [
      "There are 104 observations and 520 features\n"
     ]
    }
   ],
   "source": [
    "train3_X = datos3X_est.iloc[:nfilas_datos2b,:]\n",
    "print(f'There are {train3_X.shape[0]} observations and {train3_X.shape[1]} features')"
   ]
  },
  {
   "cell_type": "code",
   "execution_count": 21,
   "metadata": {},
   "outputs": [
    {
     "data": {
      "text/plain": [
       "0     -1\n",
       "1     -1\n",
       "2     -1\n",
       "3     -1\n",
       "4     -1\n",
       "      ..\n",
       "99     1\n",
       "100    1\n",
       "101    1\n",
       "102    1\n",
       "103    1\n",
       "Name: 2, Length: 104, dtype: int64"
      ]
     },
     "execution_count": 21,
     "metadata": {},
     "output_type": "execute_result"
    }
   ],
   "source": [
    "train3_Y = datos3_Y[:nfilas_datos2b]\n",
    "len(train3_Y)\n",
    "train3_Y1 = train3_Y.replace(to_replace=0,value=-1)\n",
    "#train3_Y1=train3_Y\n",
    "train3_Y1"
   ]
  },
  {
   "cell_type": "code",
   "execution_count": 22,
   "metadata": {},
   "outputs": [
    {
     "data": {
      "text/plain": [
       "88"
      ]
     },
     "execution_count": 22,
     "metadata": {},
     "output_type": "execute_result"
    }
   ],
   "source": [
    "train3_Y.sum()"
   ]
  },
  {
   "cell_type": "code",
   "execution_count": 23,
   "metadata": {},
   "outputs": [
    {
     "name": "stdout",
     "output_type": "stream",
     "text": [
      "There are 32 observations and 520 features\n"
     ]
    },
    {
     "data": {
      "text/plain": [
       "0    -1\n",
       "1    -1\n",
       "2    -1\n",
       "3    -1\n",
       "4    -1\n",
       "5    -1\n",
       "6    -1\n",
       "7    -1\n",
       "8    -1\n",
       "9    -1\n",
       "10   -1\n",
       "11   -1\n",
       "12   -1\n",
       "13   -1\n",
       "14   -1\n",
       "15   -1\n",
       "16    1\n",
       "17    1\n",
       "18    1\n",
       "19    1\n",
       "20    1\n",
       "21    1\n",
       "22    1\n",
       "23    1\n",
       "24    1\n",
       "25    1\n",
       "26    1\n",
       "27    1\n",
       "28    1\n",
       "29    1\n",
       "30    1\n",
       "31    1\n",
       "Name: 2, dtype: int64"
      ]
     },
     "execution_count": 23,
     "metadata": {},
     "output_type": "execute_result"
    }
   ],
   "source": [
    "test3_X = datos3X_est.iloc[nfilas_datos2b:,:]\n",
    "print(f'There are {test3_X.shape[0]} observations and {test3_X.shape[1]} features')\n",
    "test3_Y = datos_add.iloc[:,2]\n",
    "test3_Y1=  test3_Y.replace(to_replace=0,value=-1)\n",
    "#test3_Y1=  test3_Y\n",
    "test3_Y1"
   ]
  },
  {
   "cell_type": "code",
   "execution_count": 24,
   "metadata": {},
   "outputs": [],
   "source": [
    "#train_X= datos2b.iloc[:,7:] #datos sin escalar\n",
    "train_X =  train3_X #datos escalados"
   ]
  },
  {
   "cell_type": "code",
   "execution_count": 25,
   "metadata": {},
   "outputs": [
    {
     "name": "stdout",
     "output_type": "stream",
     "text": [
      "RangeIndex(start=0, stop=520, step=1)\n"
     ]
    }
   ],
   "source": [
    "print(train_X.keys())"
   ]
  },
  {
   "cell_type": "code",
   "execution_count": 26,
   "metadata": {},
   "outputs": [],
   "source": [
    "#train_Y = datos2b.iloc[:,2]\n",
    "train_Y = train3_Y1"
   ]
  },
  {
   "cell_type": "code",
   "execution_count": 27,
   "metadata": {},
   "outputs": [
    {
     "data": {
      "text/plain": [
       "0     -1\n",
       "1     -1\n",
       "2     -1\n",
       "3     -1\n",
       "4     -1\n",
       "      ..\n",
       "99     1\n",
       "100    1\n",
       "101    1\n",
       "102    1\n",
       "103    1\n",
       "Name: 2, Length: 104, dtype: int64"
      ]
     },
     "execution_count": 27,
     "metadata": {},
     "output_type": "execute_result"
    }
   ],
   "source": [
    "len(train_Y)\n",
    "train_Y"
   ]
  },
  {
   "cell_type": "code",
   "execution_count": 28,
   "metadata": {},
   "outputs": [
    {
     "name": "stdout",
     "output_type": "stream",
     "text": [
      "There are 104 observations and 520 features\n"
     ]
    }
   ],
   "source": [
    "print(f'There are {train_X.shape[0]} observations and {train_X.shape[1]} features')"
   ]
  },
  {
   "cell_type": "code",
   "execution_count": 29,
   "metadata": {},
   "outputs": [],
   "source": [
    "#test_X= datos_add.iloc[:,7:]\n",
    "test_X = test3_X"
   ]
  },
  {
   "cell_type": "code",
   "execution_count": 30,
   "metadata": {},
   "outputs": [
    {
     "name": "stdout",
     "output_type": "stream",
     "text": [
      "There are 32 observations and 520 features\n"
     ]
    }
   ],
   "source": [
    "print(f'There are {test_X.shape[0]} observations and {test_X.shape[1]} features')"
   ]
  },
  {
   "cell_type": "code",
   "execution_count": 31,
   "metadata": {},
   "outputs": [],
   "source": [
    "#test_Y = datos_add.iloc[:,2]\n",
    "test_Y = test3_Y1"
   ]
  },
  {
   "cell_type": "code",
   "execution_count": 32,
   "metadata": {},
   "outputs": [
    {
     "data": {
      "text/plain": [
       "0    -1\n",
       "1    -1\n",
       "2    -1\n",
       "3    -1\n",
       "4    -1\n",
       "5    -1\n",
       "6    -1\n",
       "7    -1\n",
       "8    -1\n",
       "9    -1\n",
       "10   -1\n",
       "11   -1\n",
       "12   -1\n",
       "13   -1\n",
       "14   -1\n",
       "15   -1\n",
       "16    1\n",
       "17    1\n",
       "18    1\n",
       "19    1\n",
       "20    1\n",
       "21    1\n",
       "22    1\n",
       "23    1\n",
       "24    1\n",
       "25    1\n",
       "26    1\n",
       "27    1\n",
       "28    1\n",
       "29    1\n",
       "30    1\n",
       "31    1\n",
       "Name: 2, dtype: int64"
      ]
     },
     "execution_count": 32,
     "metadata": {},
     "output_type": "execute_result"
    }
   ],
   "source": [
    "test_Y"
   ]
  },
  {
   "cell_type": "markdown",
   "metadata": {},
   "source": [
    "## Linear SVM"
   ]
  },
  {
   "cell_type": "markdown",
   "metadata": {},
   "source": [
    "There are many types of SVMs, but we will first try a linear SVM, the most basic. This means that the decision boundary will be linear. <br>\n",
    "\n",
    "There is another input called decision_function_shape. The two options of one versus rest, and one versus one. This relates to how the decision boundary separates points, whether it separates negative points from everyone else or negative points from neutral points, etc. (https://pythonprogramming.net/support-vector-machine-parameters-machine-learning-tutorial/). The default is one versus rest. One versus rest takes less computational power but may be thrown off by outliers and don't do well on imbalanced data sets, e.g. more of one class than another."
   ]
  },
  {
   "cell_type": "code",
   "execution_count": 35,
   "metadata": {},
   "outputs": [
    {
     "data": {
      "text/plain": [
       "SVC(C=1.0, cache_size=200, class_weight=None, coef0=0.0,\n",
       "    decision_function_shape='ovr', degree=1, gamma='auto_deprecated',\n",
       "    kernel='linear', max_iter=-1, probability=True, random_state=None,\n",
       "    shrinking=True, tol=0.001, verbose=False)"
      ]
     },
     "execution_count": 35,
     "metadata": {},
     "output_type": "execute_result"
    }
   ],
   "source": [
    "modelo = svm.SVC(kernel='linear', degree=1, probability=True)  \n",
    "modelo.fit(train_X, train_Y)"
   ]
  },
  {
   "cell_type": "code",
   "execution_count": 36,
   "metadata": {},
   "outputs": [],
   "source": [
    "y_train_pred = modelo.predict(train_X)  "
   ]
  },
  {
   "cell_type": "code",
   "execution_count": 37,
   "metadata": {},
   "outputs": [
    {
     "data": {
      "text/plain": [
       "0     -1\n",
       "1     -1\n",
       "2     -1\n",
       "3     -1\n",
       "4     -1\n",
       "      ..\n",
       "99     1\n",
       "100    1\n",
       "101    1\n",
       "102    1\n",
       "103    1\n",
       "Name: 2, Length: 104, dtype: int64"
      ]
     },
     "execution_count": 37,
     "metadata": {},
     "output_type": "execute_result"
    }
   ],
   "source": [
    "train_Y"
   ]
  },
  {
   "cell_type": "code",
   "execution_count": 38,
   "metadata": {},
   "outputs": [
    {
     "name": "stdout",
     "output_type": "stream",
     "text": [
      "[[16  0]\n",
      " [ 0 88]]\n",
      "              precision    recall  f1-score   support\n",
      "\n",
      "          -1       1.00      1.00      1.00        16\n",
      "           1       1.00      1.00      1.00        88\n",
      "\n",
      "    accuracy                           1.00       104\n",
      "   macro avg       1.00      1.00      1.00       104\n",
      "weighted avg       1.00      1.00      1.00       104\n",
      "\n"
     ]
    }
   ],
   "source": [
    "labels = ['Healthy', 'Infected']\n",
    "\n",
    "\n",
    "cmatrix_cv=confusion_matrix(y_train_pred,train_Y)\n",
    "print(cmatrix_cv) \n",
    "print(classification_report(train_Y,y_train_pred))  "
   ]
  },
  {
   "cell_type": "code",
   "execution_count": 39,
   "metadata": {},
   "outputs": [
    {
     "data": {
      "text/plain": [
       "array([[16,  0],\n",
       "       [ 0, 88]], dtype=int64)"
      ]
     },
     "execution_count": 39,
     "metadata": {},
     "output_type": "execute_result"
    }
   ],
   "source": [
    "cmatrix_cv"
   ]
  },
  {
   "cell_type": "code",
   "execution_count": 40,
   "metadata": {},
   "outputs": [
    {
     "data": {
      "text/plain": [
       "Text(69.0, 0.5, 'Predicted Label')"
      ]
     },
     "execution_count": 40,
     "metadata": {},
     "output_type": "execute_result"
    },
    {
     "data": {
      "image/png": "[encoded data removed]",
      "text/plain": [
       "<Figure size 720x504 with 2 Axes>"
      ]
     },
     "metadata": {
      "needs_background": "light"
     },
     "output_type": "display_data"
    }
   ],
   "source": [
    "plt.figure(figsize = (10,7))\n",
    "sns.heatmap(cmatrix_cv, annot=True,annot_kws={\"size\": 16},linewidth = 0.5, cmap=\"YlGnBu\")\n",
    "plt.xlabel('True Label', size = 14)\n",
    "plt.ylabel('Predicted Label', size =14)"
   ]
  },
  {
   "cell_type": "code",
   "execution_count": 41,
   "metadata": {},
   "outputs": [],
   "source": [
    "pred_Y_test = modelo.predict(test_X)  "
   ]
  },
  {
   "cell_type": "code",
   "execution_count": 42,
   "metadata": {},
   "outputs": [
    {
     "name": "stdout",
     "output_type": "stream",
     "text": [
      "[[14  0]\n",
      " [ 2 16]]\n",
      "              precision    recall  f1-score   support\n",
      "\n",
      "          -1       1.00      0.88      0.93        16\n",
      "           1       0.89      1.00      0.94        16\n",
      "\n",
      "    accuracy                           0.94        32\n",
      "   macro avg       0.94      0.94      0.94        32\n",
      "weighted avg       0.94      0.94      0.94        32\n",
      "\n"
     ]
    }
   ],
   "source": [
    "cmatrix_ve= confusion_matrix(pred_Y_test,test_Y)\n",
    "print(cmatrix_ve) \n",
    "print(classification_report(test_Y,pred_Y_test))  "
   ]
  },
  {
   "cell_type": "code",
   "execution_count": 43,
   "metadata": {
    "scrolled": true
   },
   "outputs": [
    {
     "data": {
      "text/plain": [
       "Text(69.0, 0.5, 'Predicted Label')"
      ]
     },
     "execution_count": 43,
     "metadata": {},
     "output_type": "execute_result"
    },
    {
     "data": {
      "image/png": "[encoded data removed]",
      "text/plain": [
       "<Figure size 720x504 with 2 Axes>"
      ]
     },
     "metadata": {
      "needs_background": "light"
     },
     "output_type": "display_data"
    }
   ],
   "source": [
    "plt.figure(figsize = (10,7))\n",
    "sns.heatmap(cmatrix_ve, annot=True,annot_kws={\"size\": 16},linewidth = 0.5, cmap=\"YlOrRd\")\n",
    "plt.xlabel('True Label', size = 14)\n",
    "plt.ylabel('Predicted Label', size =14)"
   ]
  },
  {
   "cell_type": "code",
   "execution_count": 44,
   "metadata": {},
   "outputs": [
    {
     "name": "stdout",
     "output_type": "stream",
     "text": [
      "Accuracy: 0.9375\n"
     ]
    }
   ],
   "source": [
    "# Model Accuracy: how often is the classifier correct?\n",
    "print(\"Accuracy:\",metrics.accuracy_score(test_Y, pred_Y_test))"
   ]
  },
  {
   "cell_type": "code",
   "execution_count": 45,
   "metadata": {},
   "outputs": [
    {
     "name": "stdout",
     "output_type": "stream",
     "text": [
      "Precision: 0.8888888888888888\n",
      "Recall: 1.0\n"
     ]
    }
   ],
   "source": [
    "# Model Precision: what percentage of positive tuples are labeled as such?\n",
    "print(\"Precision:\",metrics.precision_score(test_Y, pred_Y_test))\n",
    "\n",
    "# Model Recall: what percentage of positive tuples are labelled as such?\n",
    "print(\"Recall:\",metrics.recall_score(test_Y, pred_Y_test))"
   ]
  },
  {
   "cell_type": "markdown",
   "metadata": {},
   "source": [
    "## ROC AUC"
   ]
  },
  {
   "cell_type": "code",
   "execution_count": 49,
   "metadata": {},
   "outputs": [],
   "source": [
    "auc= roc_auc_score(pred_Y_test, test_Y)"
   ]
  },
  {
   "cell_type": "code",
   "execution_count": 50,
   "metadata": {},
   "outputs": [
    {
     "data": {
      "text/plain": [
       "0.9444444444444444"
      ]
     },
     "execution_count": 50,
     "metadata": {},
     "output_type": "execute_result"
    }
   ],
   "source": [
    "auc"
   ]
  },
  {
   "cell_type": "markdown",
   "metadata": {},
   "source": [
    "What do you think of the performance of the SVM? We can also adjust gamma to account for overfitting, but it doesn't look like we've overfit too much given the training and test performances."
   ]
  },
  {
   "cell_type": "markdown",
   "metadata": {},
   "source": [
    "Remember that support vectors are the data points that lie closest to the decision surface (or hyperplane). We can figure out what those data points are below for each class we are classifying, noting that we have three classes for negative, neutral, and positive."
   ]
  },
  {
   "cell_type": "code",
   "execution_count": 46,
   "metadata": {},
   "outputs": [
    {
     "name": "stdout",
     "output_type": "stream",
     "text": [
      "[[-1.56678103 -1.45542653 -1.38217636 ...  0.10867658 -0.11026569\n",
      "  -0.42425628]\n",
      " [-1.62739818 -1.6052112  -1.57741631 ... -0.41324352 -0.43911133\n",
      "  -0.41457209]\n",
      " [-1.67806617 -1.65652346 -1.63221809 ... -0.27490256 -0.31220059\n",
      "  -0.3074096 ]\n",
      " ...\n",
      " [-1.60013695 -1.58664474 -1.5693792  ... -0.35246887 -0.37947776\n",
      "  -0.36262933]\n",
      " [-1.33727104 -1.37573402 -1.3766794  ...  0.02835206 -0.01809828\n",
      "  -0.01721961]\n",
      " [-1.25329756 -1.29614479 -1.31534591 ...  0.14236397  0.11760768\n",
      "   0.11968806]]\n"
     ]
    }
   ],
   "source": [
    "print(modelo.support_vectors_)"
   ]
  },
  {
   "cell_type": "markdown",
   "metadata": {},
   "source": [
    "We can check for the number of points in each class using another function. Here we see that most support vectors are in our last class, the positive class."
   ]
  },
  {
   "cell_type": "code",
   "execution_count": 47,
   "metadata": {},
   "outputs": [
    {
     "data": {
      "text/plain": [
       "array([7, 6])"
      ]
     },
     "execution_count": 47,
     "metadata": {},
     "output_type": "execute_result"
    }
   ],
   "source": [
    "modelo.n_support_"
   ]
  },
  {
   "cell_type": "markdown",
   "metadata": {},
   "source": [
    "We can also find the support vector in our original data using the indices provided for us with clf.support_"
   ]
  },
  {
   "cell_type": "code",
   "execution_count": 48,
   "metadata": {},
   "outputs": [
    {
     "data": {
      "text/plain": [
       "array([ 4,  9, 10, 11, 12, 22, 23, 14, 16, 17, 18, 35, 75])"
      ]
     },
     "execution_count": 48,
     "metadata": {},
     "output_type": "execute_result"
    }
   ],
   "source": [
    "modelo.support_"
   ]
  },
  {
   "cell_type": "code",
   "execution_count": 49,
   "metadata": {},
   "outputs": [
    {
     "name": "stdout",
     "output_type": "stream",
     "text": [
      "          0         1         2         3         4         5         6    \\\n",
      "0   -1.382007 -1.307953 -1.259545 -1.232319 -1.221773 -1.223433 -1.231915   \n",
      "1   -1.447675 -1.397598 -1.358394 -1.329505 -1.310324 -1.300272 -1.301792   \n",
      "2   -1.531896 -1.424441 -1.352119 -1.309314 -1.290405 -1.289755 -1.302770   \n",
      "3   -1.551253 -1.442767 -1.369911 -1.326980 -1.308260 -1.308047 -1.322679   \n",
      "4   -1.566781 -1.455427 -1.382176 -1.340432 -1.323597 -1.325081 -1.332401   \n",
      "..        ...       ...       ...       ...       ...       ...       ...   \n",
      "99  -1.305277 -1.273865 -1.249948 -1.231640 -1.217002 -1.204151 -1.188198   \n",
      "100 -1.469019 -1.446885 -1.426520 -1.407249 -1.388394 -1.369292 -1.353063   \n",
      "101 -1.319445 -1.303401 -1.280268 -1.251943 -1.220314 -1.187245 -1.145865   \n",
      "102 -1.445660 -1.467366 -1.469359 -1.455057 -1.427839 -1.391101 -1.349482   \n",
      "103 -1.319010 -1.277412 -1.253819 -1.242916 -1.239354 -1.237795 -1.226903   \n",
      "\n",
      "          7         8         9    ...       510       511       512  \\\n",
      "0   -1.237936 -1.247308 -1.253330  ...  0.452520  0.439856  0.428702   \n",
      "1   -1.306311 -1.321966 -1.338452  ...  0.421508  0.405698  0.391243   \n",
      "2   -1.318366 -1.332804 -1.348085  ...  0.395231  0.381670  0.376046   \n",
      "3   -1.339640 -1.355065 -1.368904  ...  0.380446  0.365691  0.355318   \n",
      "4   -1.348678 -1.367526 -1.383030  ...  0.393434  0.380145  0.370923   \n",
      "..        ...       ...       ...  ...       ...       ...       ...   \n",
      "99  -1.153763 -1.159285 -1.149862  ...  0.425528  0.393437  0.354064   \n",
      "100 -1.316977 -1.289738 -1.271052  ...  0.319463  0.280064  0.236407   \n",
      "101 -1.118762 -1.102740 -1.091812  ...  0.484099  0.412133  0.336604   \n",
      "102 -1.293008 -1.243486 -1.222045  ...  0.363624  0.307441  0.245673   \n",
      "103 -1.205302 -1.166476 -1.143175  ...  0.375805  0.321874  0.252806   \n",
      "\n",
      "          513       514       515       516       517       518       519  \n",
      "0    0.425005  0.429886  0.415974  0.367676  0.270512  0.110007 -0.128319  \n",
      "1    0.393378  0.393786  0.373810  0.309743  0.183464 -0.023151 -0.328222  \n",
      "2    0.381746  0.359187  0.322709  0.242799  0.104005 -0.109121 -0.412032  \n",
      "3    0.362610  0.356890  0.330020  0.254821  0.112676 -0.115031 -0.446915  \n",
      "4    0.375384  0.360962  0.327715  0.249145  0.108677 -0.110266 -0.424256  \n",
      "..        ...       ...       ...       ...       ...       ...       ...  \n",
      "99   0.270808  0.195111  0.112431  0.036398 -0.025675 -0.066474 -0.078686  \n",
      "100  0.162222  0.093278  0.031894 -0.021280 -0.062477 -0.087928 -0.093865  \n",
      "101  0.271927  0.181764  0.091539  0.015548 -0.036104 -0.053311 -0.025968  \n",
      "102  0.176082  0.091440  0.015387 -0.048451 -0.093238 -0.112140 -0.098322  \n",
      "103  0.176917  0.109762  0.054546  0.011240 -0.017275 -0.028114 -0.018394  \n",
      "\n",
      "[104 rows x 520 columns]\n"
     ]
    }
   ],
   "source": [
    "print(train_X)"
   ]
  },
  {
   "cell_type": "markdown",
   "metadata": {},
   "source": [
    "gráfico"
   ]
  },
  {
   "cell_type": "code",
   "execution_count": 50,
   "metadata": {},
   "outputs": [],
   "source": [
    "\n",
    "#plt.scatter(X[:, 0], X[:, 1], c=y, s=30, cmap=plt.cm.Paired)\n"
   ]
  },
  {
   "cell_type": "code",
   "execution_count": 51,
   "metadata": {},
   "outputs": [],
   "source": [
    " # View probabilities  entrenamiento SVM polinomial:\n",
    "probas = modelo.predict_proba(train_X)\n",
    "n_classes = np.unique(y_train_pred).size\n"
   ]
  },
  {
   "cell_type": "code",
   "execution_count": 52,
   "metadata": {},
   "outputs": [
    {
     "data": {
      "text/plain": [
       "104"
      ]
     },
     "execution_count": 52,
     "metadata": {},
     "output_type": "execute_result"
    }
   ],
   "source": [
    "len(probas)"
   ]
  },
  {
   "cell_type": "code",
   "execution_count": null,
   "metadata": {},
   "outputs": [],
   "source": []
  },
  {
   "cell_type": "code",
   "execution_count": 53,
   "metadata": {},
   "outputs": [
    {
     "name": "stdout",
     "output_type": "stream",
     "text": [
      "[0.0010782899580746178, 0.01212573398950906, 0.060855322261242205, 0.040792113213800614, 0.07270736791098664, 0.021436541509262667, 0.023596233669808637, 0.0026872167683835045, 0.06608965880851259, 0.24311922479389658, 0.10938269332845034, 0.07276825593419428, 0.09561368325481542, 0.9649549240022198, 0.595455617082784, 0.9999852555086794, 0.9081284318315652, 0.7447865340760095, 0.8074401321563591, 0.9924904967805583, 0.9147985081221248, 0.052417882185480776, 0.07267800217429665, 0.38147741583600925, 0.9999998467522039, 0.9999834918487643, 0.9999999999215512, 0.965725674098116, 0.9973730862322083, 0.9817757170921757, 0.9999887650459705, 0.9930649246414766, 0.9999979097838727, 0.9999999623497563, 0.9383729992561244, 0.9081461129018088, 0.9999994962271151, 0.9967000537639215, 0.9608456994403933, 0.9999990145681832, 0.9999999048493533, 0.9954622663888706, 0.9902105691600532, 0.9846153991725998, 0.9718379822342654, 0.9082318001569568, 0.9999995672115808, 0.9999983348544316, 0.9966183355813472, 0.9929584907081468, 0.9957492786853429, 0.9999999554311869, 0.9701171545432116, 0.9869471530297941, 0.9889856092003173, 0.9884730847101478, 0.9874149635818293, 0.9911872848151839, 0.9942911276153548, 0.9999915394999104, 0.997101859068094, 0.9969911313082056, 0.999999606032714, 0.9893939647381398, 0.9910544352806593, 0.9999987138120942, 0.9748655455983452, 0.9700368304700077, 0.9964163213516462, 0.985409307786367, 0.9999994842590039, 0.9900024395191448, 0.9999921763648064, 0.9969630931233029, 0.999999654064944, 0.9082222725141623, 0.9999964154053808, 0.9958838358987683, 0.9999995033614767, 0.9999999754378848, 0.9999996120692632, 0.9999993991835017, 0.9999978066804329, 0.9999996739520156, 0.9999999929601009, 0.9999992731035268, 0.999999186762724, 0.9346799351367782, 0.9902163011678392, 0.999996562727157, 0.9999999519399044, 0.999997930059394, 0.9999976287368921, 0.999999818592158, 0.9971153012693472, 0.9999822993093976, 0.9999971011966412, 0.996444825835622, 0.988725998099095, 0.9963972911009612, 0.9999997222231936, 0.9999919023709106, 0.994270750688403, 0.9913775436417015]\n"
     ]
    },
    {
     "data": {
      "text/plain": [
       "104"
      ]
     },
     "execution_count": 53,
     "metadata": {},
     "output_type": "execute_result"
    }
   ],
   "source": [
    "prob_modelo = list()\n",
    "for k in range(len(probas)):\n",
    "    if (probas[k][1]>probas[k][0]):\n",
    "        prob_modelo.append(probas[k][1])\n",
    "    else:\n",
    "        prob_modelo.append(probas[k][1])\n",
    "print(prob_modelo)\n",
    "                   \n",
    "len(prob_modelo)                   \n",
    "                   \n",
    "               \n",
    "    "
   ]
  },
  {
   "cell_type": "code",
   "execution_count": 54,
   "metadata": {},
   "outputs": [
    {
     "name": "stdout",
     "output_type": "stream",
     "text": [
      "['Healthy', 'Healthy', 'Healthy', 'Healthy', 'Healthy', 'Healthy', 'Healthy', 'Healthy', 'Healthy', 'Healthy', 'Healthy', 'Healthy', 'Healthy', 'Sev 1', 'Pre-symp', 'Sev 1', 'Pre-symp', 'Sev 1', 'Sev 1', 'Sev 1', 'Sev 1', 'Healthy', 'Healthy', 'Healthy', 'Sev 1', 'Sev 1', 'Sev 1', 'Pre-symp', 'Pre-symp', 'Pre-symp', 'Sev 1', 'Pre-symp', 'Sev 1', 'Sev 1', 'Pre-symp', 'Pre-symp', 'Sev 1', 'Sev 1', 'Pre-symp', 'Pre-symp', 'Sev 2', 'Sev 1', 'Pre-symp', 'Sev 1', 'Pre-symp', 'Sev 1', 'Sev 1', 'Sev 1', 'Sev 2', 'Pre-symp', 'Sev 1', 'Sev 1', 'Sev 1', 'Sev 1', 'Sev 1', 'Sev 1', 'Sev 1', 'Sev 1', 'Sev 1', 'Sev 1', 'Sev 2', 'Sev 1', 'Sev 2', 'Sev 2', 'Sev 2', 'Sev 1', 'Sev 1', 'Sev 1', 'Sev 1', 'Sev 1', 'Sev 2', 'Sev 2', 'Sev 1', 'Sev 1', 'Sev 1', 'Sev 1', 'Sev 2', 'Sev 2', 'Sev 1', 'Pre-symp', 'Pre-symp', 'Pre-symp', 'Sev 1', 'Sev 1', 'Sev 1', 'Sev 1', 'Sev 1', 'Sev 2', 'Sev 1', 'Sev 2', 'Sev 2', 'Sev 1', 'Sev 1', 'Sev 1', 'Sev 1', 'Sev 2', 'Sev 2', 'Sev 1', 'Sev 2', 'Sev 1', 'Sev 2', 'Sev 2', 'Sev 1', 'Sev 1']\n"
     ]
    }
   ],
   "source": [
    "\n",
    "sev=datos2b[1]\n",
    "severity = list()\n",
    "for k in range(len(sev)):\n",
    "    if (sev[k]==0):\n",
    "        severity.append(\"Healthy\")\n",
    "    else:\n",
    "        if (sev[k]==1):\n",
    "            severity.append(\"Pre-symp\")\n",
    "        else:\n",
    "            if (sev[k]==2):\n",
    "                severity.append(\"Sev 1\")\n",
    "            else:\n",
    "                severity.append(\"Sev 2\")\n",
    "    \n",
    "       \n",
    "print(severity)\n"
   ]
  },
  {
   "cell_type": "code",
   "execution_count": 55,
   "metadata": {},
   "outputs": [
    {
     "data": {
      "image/png": "[encoded data removed]",
      "text/plain": [
       "<Figure size 640x480 with 1 Axes>"
      ]
     },
     "metadata": {},
     "output_type": "display_data"
    },
    {
     "name": "stdout",
     "output_type": "stream",
     "text": [
      "<ggplot: (30268686747)>\n"
     ]
    }
   ],
   "source": [
    "x=range(1,105)\n",
    "\n",
    "df = pd.DataFrame({\"Leaves\":x, \"Y probability\":prob_modelo, 'Severity':severity})\n",
    "\n",
    "g= ggplot(df) + geom_point(aes(x=\"Leaves\", y=\"Y probability\", colour = 'Severity'),size=2) + \\\n",
    "scale_colour_manual(values=[\"green\",\"turquoise\",\"blue\", \"red\"], limits=[\"Healthy\", \"Pre-symp\", \"Sev 1\", \"Sev 2\"]) + \\\n",
    "geom_hline(yintercept=0.5, linetype=\"dashed\", color = \"red\", size=0.7)+ guides(color = guide_legend(order=1))\n",
    "print(g)\n",
    "\n",
    "#scale_colour_brewer(type=\"qual\", palette= \"Set1\") + \\"
   ]
  },
  {
   "cell_type": "code",
   "execution_count": 231,
   "metadata": {},
   "outputs": [
    {
     "name": "stderr",
     "output_type": "stream",
     "text": [
      "C:\\Users\\Usuario\\AppData\\Roaming\\Python\\Python37\\site-packages\\plotnine\\ggplot.py:729: PlotnineWarning: Saving 6.4 x 4.8 in image.\n",
      "C:\\Users\\Usuario\\AppData\\Roaming\\Python\\Python37\\site-packages\\plotnine\\ggplot.py:730: PlotnineWarning: Filename: D:/ugarte/usal/RIP/estudio doctoral/ACADEMICO USAL/tesis/figuras/figura_svm1_prob1.png\n"
     ]
    }
   ],
   "source": [
    "g.save(\"D:/ugarte/usal/RIP/estudio doctoral/ACADEMICO USAL/tesis/figuras/figura_svm1_prob1.png\")"
   ]
  },
  {
   "cell_type": "code",
   "execution_count": 122,
   "metadata": {},
   "outputs": [
    {
     "data": {
      "text/plain": [
       "104"
      ]
     },
     "execution_count": 122,
     "metadata": {},
     "output_type": "execute_result"
    }
   ],
   "source": [
    "#probatilidad en validacion externa\n"
   ]
  },
  {
   "cell_type": "markdown",
   "metadata": {},
   "source": [
    "### test "
   ]
  },
  {
   "cell_type": "code",
   "execution_count": 56,
   "metadata": {},
   "outputs": [
    {
     "data": {
      "text/plain": [
       "array([[9.99108492e-01, 8.91508108e-04],\n",
       "       [9.90897162e-01, 9.10283832e-03],\n",
       "       [9.53653569e-01, 4.63464312e-02],\n",
       "       [9.19612706e-01, 8.03872937e-02],\n",
       "       [9.53548642e-01, 4.64513583e-02],\n",
       "       [9.83368972e-01, 1.66310283e-02],\n",
       "       [9.73577433e-01, 2.64225672e-02],\n",
       "       [9.97367024e-01, 2.63297563e-03],\n",
       "       [6.83727336e-01, 3.16272664e-01],\n",
       "       [8.34586901e-01, 1.65413099e-01],\n",
       "       [7.64097474e-01, 2.35902526e-01],\n",
       "       [9.39544617e-01, 6.04553826e-02],\n",
       "       [4.51463951e-02, 9.54853605e-01],\n",
       "       [9.22720237e-01, 7.72797635e-02],\n",
       "       [2.42371600e-02, 9.75762840e-01],\n",
       "       [9.27683299e-01, 7.23167007e-02],\n",
       "       [2.61855234e-10, 1.00000000e+00],\n",
       "       [1.11125070e-01, 8.88874930e-01],\n",
       "       [6.61446961e-03, 9.93385530e-01],\n",
       "       [2.97209897e-02, 9.70279010e-01],\n",
       "       [5.60242961e-03, 9.94397570e-01],\n",
       "       [6.11242502e-03, 9.93887575e-01],\n",
       "       [2.65229034e-03, 9.97347710e-01],\n",
       "       [1.84448830e-02, 9.81555117e-01],\n",
       "       [1.67551337e-09, 9.99999998e-01],\n",
       "       [8.26461636e-06, 9.99991735e-01],\n",
       "       [1.44975780e-02, 9.85502422e-01],\n",
       "       [1.00905627e-02, 9.89909437e-01],\n",
       "       [1.51510803e-02, 9.84848920e-01],\n",
       "       [4.13249076e-03, 9.95867509e-01],\n",
       "       [8.45287673e-06, 9.99991547e-01],\n",
       "       [9.80846498e-07, 9.99999019e-01]])"
      ]
     },
     "execution_count": 56,
     "metadata": {},
     "output_type": "execute_result"
    }
   ],
   "source": [
    " # View probabilities  entrenamiento :\n",
    "probas1 = modelo.predict_proba(test_X)\n",
    "probas1"
   ]
  },
  {
   "cell_type": "code",
   "execution_count": 57,
   "metadata": {},
   "outputs": [
    {
     "name": "stdout",
     "output_type": "stream",
     "text": [
      "[0.0008915081084424868, 0.009102838323549694, 0.04634643118905553, 0.08038729373793906, 0.046451358328403004, 0.01663102831959414, 0.026422567175592968, 0.002632975634378088, 0.3162726637014972, 0.16541309855563552, 0.23590252583369778, 0.06045538264658708, 0.9548536048758558, 0.07727976346128583, 0.9757628400289563, 0.07231670066792746, 0.9999999997381448, 0.8888749298963893, 0.9933855303853436, 0.9702790102720703, 0.994397570391017, 0.9938875749772843, 0.9973477096578359, 0.981555116989489, 0.9999999983244866, 0.9999917353836365, 0.9855024219725821, 0.9899094373125056, 0.9848489196732372, 0.9958675092378543, 0.9999915471232734, 0.9999990191535022]\n"
     ]
    },
    {
     "data": {
      "text/plain": [
       "32"
      ]
     },
     "execution_count": 57,
     "metadata": {},
     "output_type": "execute_result"
    }
   ],
   "source": [
    "prob_test = list()\n",
    "for k in range(len(probas1)):\n",
    "    if (probas1[k][1]>probas1[k][0]):\n",
    "        prob_test.append(probas1[k][1])\n",
    "    else:\n",
    "        prob_test.append(probas1[k][1])\n",
    "print(prob_test)\n",
    "                   \n",
    "len(prob_test)                   \n",
    "                   "
   ]
  },
  {
   "cell_type": "code",
   "execution_count": 58,
   "metadata": {},
   "outputs": [
    {
     "name": "stdout",
     "output_type": "stream",
     "text": [
      "32\n"
     ]
    },
    {
     "data": {
      "text/plain": [
       "range(1, 33)"
      ]
     },
     "execution_count": 58,
     "metadata": {},
     "output_type": "execute_result"
    }
   ],
   "source": [
    "\n",
    "sev1=datos_add[1]\n",
    "severity = list()\n",
    "for k in range(len(sev1)):\n",
    "    if (sev1[k]==0):\n",
    "        severity.append(\"Healthy\")\n",
    "    else:\n",
    "        if (sev1[k]==1):\n",
    "            severity.append(\"Pre-symp\")\n",
    "        else:\n",
    "            if (sev1[k]==2):\n",
    "                severity.append(\"Sev 1\")\n",
    "            else:\n",
    "                severity.append(\"Sev 2\")\n",
    "    \n",
    "       \n",
    "print(len(severity))\n",
    "x=range(1,33)\n",
    "x"
   ]
  },
  {
   "cell_type": "code",
   "execution_count": 59,
   "metadata": {},
   "outputs": [
    {
     "data": {
      "image/png": "[encoded data removed]",
      "text/plain": [
       "<Figure size 640x480 with 1 Axes>"
      ]
     },
     "metadata": {},
     "output_type": "display_data"
    },
    {
     "name": "stdout",
     "output_type": "stream",
     "text": [
      "<ggplot: (-9223372006585394281)>\n"
     ]
    }
   ],
   "source": [
    "\n",
    "\n",
    "df = pd.DataFrame({\"Leaves\":x, \"Y probability\":prob_test, 'Severity':severity})\n",
    "\n",
    "g= ggplot(df) + geom_point(aes(x=\"Leaves\", y=\"Y probability\", colour = 'Severity'),size=2) + \\\n",
    "scale_colour_manual(values=[\"green\",\"turquoise\",\"blue\", \"red\"], limits=[\"Healthy\", \"Pre-symp\", \"Sev 1\", \"Sev 2\"]) + \\\n",
    "geom_hline(yintercept=0.5, linetype=\"dashed\", color = \"red\", size=0.7)+ guides(color = guide_legend(order=1))\n",
    "print(g)\n",
    "\n",
    "#scale_colour_brewer(type=\"qual\", palette= \"Set1\") + \\"
   ]
  },
  {
   "cell_type": "code",
   "execution_count": 60,
   "metadata": {},
   "outputs": [
    {
     "data": {
      "text/html": [
       "<div>\n",
       "<style scoped>\n",
       "    .dataframe tbody tr th:only-of-type {\n",
       "        vertical-align: middle;\n",
       "    }\n",
       "\n",
       "    .dataframe tbody tr th {\n",
       "        vertical-align: top;\n",
       "    }\n",
       "\n",
       "    .dataframe thead th {\n",
       "        text-align: right;\n",
       "    }\n",
       "</style>\n",
       "<table border=\"1\" class=\"dataframe\">\n",
       "  <thead>\n",
       "    <tr style=\"text-align: right;\">\n",
       "      <th></th>\n",
       "      <th>Leaves</th>\n",
       "      <th>Y probability</th>\n",
       "      <th>Severity</th>\n",
       "    </tr>\n",
       "  </thead>\n",
       "  <tbody>\n",
       "    <tr>\n",
       "      <th>0</th>\n",
       "      <td>1</td>\n",
       "      <td>0.000892</td>\n",
       "      <td>Healthy</td>\n",
       "    </tr>\n",
       "    <tr>\n",
       "      <th>1</th>\n",
       "      <td>2</td>\n",
       "      <td>0.009103</td>\n",
       "      <td>Healthy</td>\n",
       "    </tr>\n",
       "    <tr>\n",
       "      <th>2</th>\n",
       "      <td>3</td>\n",
       "      <td>0.046346</td>\n",
       "      <td>Healthy</td>\n",
       "    </tr>\n",
       "    <tr>\n",
       "      <th>3</th>\n",
       "      <td>4</td>\n",
       "      <td>0.080387</td>\n",
       "      <td>Healthy</td>\n",
       "    </tr>\n",
       "    <tr>\n",
       "      <th>4</th>\n",
       "      <td>5</td>\n",
       "      <td>0.046451</td>\n",
       "      <td>Healthy</td>\n",
       "    </tr>\n",
       "    <tr>\n",
       "      <th>5</th>\n",
       "      <td>6</td>\n",
       "      <td>0.016631</td>\n",
       "      <td>Healthy</td>\n",
       "    </tr>\n",
       "    <tr>\n",
       "      <th>6</th>\n",
       "      <td>7</td>\n",
       "      <td>0.026423</td>\n",
       "      <td>Healthy</td>\n",
       "    </tr>\n",
       "    <tr>\n",
       "      <th>7</th>\n",
       "      <td>8</td>\n",
       "      <td>0.002633</td>\n",
       "      <td>Healthy</td>\n",
       "    </tr>\n",
       "    <tr>\n",
       "      <th>8</th>\n",
       "      <td>9</td>\n",
       "      <td>0.316273</td>\n",
       "      <td>Healthy</td>\n",
       "    </tr>\n",
       "    <tr>\n",
       "      <th>9</th>\n",
       "      <td>10</td>\n",
       "      <td>0.165413</td>\n",
       "      <td>Healthy</td>\n",
       "    </tr>\n",
       "    <tr>\n",
       "      <th>10</th>\n",
       "      <td>11</td>\n",
       "      <td>0.235903</td>\n",
       "      <td>Healthy</td>\n",
       "    </tr>\n",
       "    <tr>\n",
       "      <th>11</th>\n",
       "      <td>12</td>\n",
       "      <td>0.060455</td>\n",
       "      <td>Healthy</td>\n",
       "    </tr>\n",
       "    <tr>\n",
       "      <th>12</th>\n",
       "      <td>13</td>\n",
       "      <td>0.954854</td>\n",
       "      <td>Healthy</td>\n",
       "    </tr>\n",
       "    <tr>\n",
       "      <th>13</th>\n",
       "      <td>14</td>\n",
       "      <td>0.077280</td>\n",
       "      <td>Healthy</td>\n",
       "    </tr>\n",
       "    <tr>\n",
       "      <th>14</th>\n",
       "      <td>15</td>\n",
       "      <td>0.975763</td>\n",
       "      <td>Healthy</td>\n",
       "    </tr>\n",
       "    <tr>\n",
       "      <th>15</th>\n",
       "      <td>16</td>\n",
       "      <td>0.072317</td>\n",
       "      <td>Healthy</td>\n",
       "    </tr>\n",
       "    <tr>\n",
       "      <th>16</th>\n",
       "      <td>17</td>\n",
       "      <td>1.000000</td>\n",
       "      <td>Sev 1</td>\n",
       "    </tr>\n",
       "    <tr>\n",
       "      <th>17</th>\n",
       "      <td>18</td>\n",
       "      <td>0.888875</td>\n",
       "      <td>Sev 1</td>\n",
       "    </tr>\n",
       "    <tr>\n",
       "      <th>18</th>\n",
       "      <td>19</td>\n",
       "      <td>0.993386</td>\n",
       "      <td>Sev 1</td>\n",
       "    </tr>\n",
       "    <tr>\n",
       "      <th>19</th>\n",
       "      <td>20</td>\n",
       "      <td>0.970279</td>\n",
       "      <td>Sev 1</td>\n",
       "    </tr>\n",
       "    <tr>\n",
       "      <th>20</th>\n",
       "      <td>21</td>\n",
       "      <td>0.994398</td>\n",
       "      <td>Sev 1</td>\n",
       "    </tr>\n",
       "    <tr>\n",
       "      <th>21</th>\n",
       "      <td>22</td>\n",
       "      <td>0.993888</td>\n",
       "      <td>Sev 1</td>\n",
       "    </tr>\n",
       "    <tr>\n",
       "      <th>22</th>\n",
       "      <td>23</td>\n",
       "      <td>0.997348</td>\n",
       "      <td>Sev 1</td>\n",
       "    </tr>\n",
       "    <tr>\n",
       "      <th>23</th>\n",
       "      <td>24</td>\n",
       "      <td>0.981555</td>\n",
       "      <td>Sev 1</td>\n",
       "    </tr>\n",
       "    <tr>\n",
       "      <th>24</th>\n",
       "      <td>25</td>\n",
       "      <td>1.000000</td>\n",
       "      <td>Sev 1</td>\n",
       "    </tr>\n",
       "    <tr>\n",
       "      <th>25</th>\n",
       "      <td>26</td>\n",
       "      <td>0.999992</td>\n",
       "      <td>Sev 2</td>\n",
       "    </tr>\n",
       "    <tr>\n",
       "      <th>26</th>\n",
       "      <td>27</td>\n",
       "      <td>0.985502</td>\n",
       "      <td>Sev 1</td>\n",
       "    </tr>\n",
       "    <tr>\n",
       "      <th>27</th>\n",
       "      <td>28</td>\n",
       "      <td>0.989909</td>\n",
       "      <td>Sev 2</td>\n",
       "    </tr>\n",
       "    <tr>\n",
       "      <th>28</th>\n",
       "      <td>29</td>\n",
       "      <td>0.984849</td>\n",
       "      <td>Sev 1</td>\n",
       "    </tr>\n",
       "    <tr>\n",
       "      <th>29</th>\n",
       "      <td>30</td>\n",
       "      <td>0.995868</td>\n",
       "      <td>Pre-symp</td>\n",
       "    </tr>\n",
       "    <tr>\n",
       "      <th>30</th>\n",
       "      <td>31</td>\n",
       "      <td>0.999992</td>\n",
       "      <td>Sev 2</td>\n",
       "    </tr>\n",
       "    <tr>\n",
       "      <th>31</th>\n",
       "      <td>32</td>\n",
       "      <td>0.999999</td>\n",
       "      <td>Sev 2</td>\n",
       "    </tr>\n",
       "  </tbody>\n",
       "</table>\n",
       "</div>"
      ],
      "text/plain": [
       "    Leaves  Y probability  Severity\n",
       "0        1       0.000892   Healthy\n",
       "1        2       0.009103   Healthy\n",
       "2        3       0.046346   Healthy\n",
       "3        4       0.080387   Healthy\n",
       "4        5       0.046451   Healthy\n",
       "5        6       0.016631   Healthy\n",
       "6        7       0.026423   Healthy\n",
       "7        8       0.002633   Healthy\n",
       "8        9       0.316273   Healthy\n",
       "9       10       0.165413   Healthy\n",
       "10      11       0.235903   Healthy\n",
       "11      12       0.060455   Healthy\n",
       "12      13       0.954854   Healthy\n",
       "13      14       0.077280   Healthy\n",
       "14      15       0.975763   Healthy\n",
       "15      16       0.072317   Healthy\n",
       "16      17       1.000000     Sev 1\n",
       "17      18       0.888875     Sev 1\n",
       "18      19       0.993386     Sev 1\n",
       "19      20       0.970279     Sev 1\n",
       "20      21       0.994398     Sev 1\n",
       "21      22       0.993888     Sev 1\n",
       "22      23       0.997348     Sev 1\n",
       "23      24       0.981555     Sev 1\n",
       "24      25       1.000000     Sev 1\n",
       "25      26       0.999992     Sev 2\n",
       "26      27       0.985502     Sev 1\n",
       "27      28       0.989909     Sev 2\n",
       "28      29       0.984849     Sev 1\n",
       "29      30       0.995868  Pre-symp\n",
       "30      31       0.999992     Sev 2\n",
       "31      32       0.999999     Sev 2"
      ]
     },
     "execution_count": 60,
     "metadata": {},
     "output_type": "execute_result"
    }
   ],
   "source": [
    "df"
   ]
  },
  {
   "cell_type": "code",
   "execution_count": 240,
   "metadata": {},
   "outputs": [
    {
     "name": "stderr",
     "output_type": "stream",
     "text": [
      "C:\\Users\\Usuario\\AppData\\Roaming\\Python\\Python37\\site-packages\\plotnine\\ggplot.py:729: PlotnineWarning: Saving 6.4 x 4.8 in image.\n",
      "C:\\Users\\Usuario\\AppData\\Roaming\\Python\\Python37\\site-packages\\plotnine\\ggplot.py:730: PlotnineWarning: Filename: D:/ugarte/usal/RIP/estudio doctoral/ACADEMICO USAL/tesis/figuras/figura_svm1_prob2.png\n"
     ]
    }
   ],
   "source": [
    "g.save(\"D:/ugarte/usal/RIP/estudio doctoral/ACADEMICO USAL/tesis/figuras/figura_svm1_prob2.png\")"
   ]
  },
  {
   "cell_type": "markdown",
   "metadata": {},
   "source": [
    "## Non-linear SVM"
   ]
  },
  {
   "cell_type": "markdown",
   "metadata": {},
   "source": [
    "We can also check different kernel types, with rbf being gaussian and sigmoid being similar to the sigmoid function in logistic regression. A visualization is simplest to understand below:\n",
    "\n",
    "<img src=\"svm shapes.png\">"
   ]
  },
  {
   "cell_type": "code",
   "execution_count": 51,
   "metadata": {},
   "outputs": [
    {
     "data": {
      "text/plain": [
       "SVC(C=91, cache_size=200, class_weight=None, coef0=0.0,\n",
       "    decision_function_shape='ovr', degree=3, gamma='auto_deprecated',\n",
       "    kernel='poly', max_iter=-1, probability=True, random_state=None,\n",
       "    shrinking=True, tol=0.001, verbose=False)"
      ]
     },
     "execution_count": 51,
     "metadata": {},
     "output_type": "execute_result"
    }
   ],
   "source": [
    "modelo_poly = svm.SVC(kernel='poly', C=91, probability = True)  \n",
    "#modelo_poly = svm.SVC(kernel='poly', C=1, class_weight={-1:3})  \n",
    "modelo_poly.fit(train_X, train_Y)"
   ]
  },
  {
   "cell_type": "code",
   "execution_count": 52,
   "metadata": {},
   "outputs": [],
   "source": [
    "y_train_pred = modelo_poly.predict(train_X)  "
   ]
  },
  {
   "cell_type": "code",
   "execution_count": 53,
   "metadata": {},
   "outputs": [
    {
     "name": "stdout",
     "output_type": "stream",
     "text": [
      "[[16  0]\n",
      " [ 0 88]]\n",
      "              precision    recall  f1-score   support\n",
      "\n",
      "          -1       1.00      1.00      1.00        16\n",
      "           1       1.00      1.00      1.00        88\n",
      "\n",
      "    accuracy                           1.00       104\n",
      "   macro avg       1.00      1.00      1.00       104\n",
      "weighted avg       1.00      1.00      1.00       104\n",
      "\n"
     ]
    }
   ],
   "source": [
    "cmatrix_cv_poly=confusion_matrix(y_train_pred, train_Y)\n",
    "print(cmatrix_cv_poly) \n",
    "print(classification_report(train_Y,y_train_pred))  "
   ]
  },
  {
   "cell_type": "code",
   "execution_count": 54,
   "metadata": {},
   "outputs": [
    {
     "data": {
      "text/plain": [
       "Text(69.0, 0.5, 'Predicted Label')"
      ]
     },
     "execution_count": 54,
     "metadata": {},
     "output_type": "execute_result"
    },
    {
     "data": {
      "image/png": "[encoded data removed]",
      "text/plain": [
       "<Figure size 720x504 with 2 Axes>"
      ]
     },
     "metadata": {
      "needs_background": "light"
     },
     "output_type": "display_data"
    }
   ],
   "source": [
    "plt.figure(figsize = (10,7))\n",
    "sns.heatmap(cmatrix_cv_poly, annot=True,annot_kws={\"size\": 16},linewidth = 0.5, cmap=\"YlGnBu\")\n",
    "plt.xlabel('True Label', size = 14)\n",
    "plt.ylabel('Predicted Label', size =14)"
   ]
  },
  {
   "cell_type": "code",
   "execution_count": 55,
   "metadata": {},
   "outputs": [],
   "source": [
    "y_pred_test2 = modelo_poly.predict(test_X)  "
   ]
  },
  {
   "cell_type": "code",
   "execution_count": 56,
   "metadata": {},
   "outputs": [
    {
     "name": "stdout",
     "output_type": "stream",
     "text": [
      "[[14  0]\n",
      " [ 2 16]]\n",
      "              precision    recall  f1-score   support\n",
      "\n",
      "          -1       1.00      0.88      0.93        16\n",
      "           1       0.89      1.00      0.94        16\n",
      "\n",
      "    accuracy                           0.94        32\n",
      "   macro avg       0.94      0.94      0.94        32\n",
      "weighted avg       0.94      0.94      0.94        32\n",
      "\n"
     ]
    }
   ],
   "source": [
    "cmatrix_ve_poly=confusion_matrix(y_pred_test2,test_Y)\n",
    "print(cmatrix_ve_poly) \n",
    "print(classification_report(test_Y,y_pred_test2))  "
   ]
  },
  {
   "cell_type": "code",
   "execution_count": 57,
   "metadata": {},
   "outputs": [
    {
     "data": {
      "text/plain": [
       "Text(69.0, 0.5, 'Predicted Label')"
      ]
     },
     "execution_count": 57,
     "metadata": {},
     "output_type": "execute_result"
    },
    {
     "data": {
      "image/png": "[encoded data removed]",
      "text/plain": [
       "<Figure size 720x504 with 2 Axes>"
      ]
     },
     "metadata": {
      "needs_background": "light"
     },
     "output_type": "display_data"
    }
   ],
   "source": [
    "plt.figure(figsize = (10,7))\n",
    "sns.heatmap(cmatrix_ve_poly, annot=True,annot_kws={\"size\": 16},linewidth = 0.5, cmap=\"YlOrRd\")\n",
    "plt.xlabel('True Label', size = 14)\n",
    "plt.ylabel('Predicted Label', size = 14)"
   ]
  },
  {
   "cell_type": "code",
   "execution_count": 58,
   "metadata": {},
   "outputs": [
    {
     "name": "stdout",
     "output_type": "stream",
     "text": [
      "Accuracy: 0.9375\n"
     ]
    }
   ],
   "source": [
    " #Model Accuracy: how often is the classifier correct?\n",
    "print(\"Accuracy:\",metrics.accuracy_score(test_Y, pred_Y_test))"
   ]
  },
  {
   "cell_type": "code",
   "execution_count": 59,
   "metadata": {},
   "outputs": [
    {
     "name": "stdout",
     "output_type": "stream",
     "text": [
      "Precision: 0.8888888888888888\n",
      "Recall: 1.0\n"
     ]
    }
   ],
   "source": [
    "# Model Precision: what percentage of positive tuples are labeled as such?\n",
    "print(\"Precision:\",metrics.precision_score(test_Y, pred_Y_test))\n",
    "\n",
    "# Model Recall: what percentage of positive tuples are labelled as such?\n",
    "print(\"Recall:\",metrics.recall_score(test_Y, pred_Y_test))"
   ]
  },
  {
   "cell_type": "markdown",
   "metadata": {},
   "source": [
    "## roc auc"
   ]
  },
  {
   "cell_type": "code",
   "execution_count": 60,
   "metadata": {},
   "outputs": [],
   "source": [
    "auc= roc_auc_score(pred_Y_test, test_Y)"
   ]
  },
  {
   "cell_type": "code",
   "execution_count": 61,
   "metadata": {},
   "outputs": [
    {
     "data": {
      "text/plain": [
       "0.9444444444444444"
      ]
     },
     "execution_count": 61,
     "metadata": {},
     "output_type": "execute_result"
    }
   ],
   "source": [
    "auc"
   ]
  },
  {
   "cell_type": "code",
   "execution_count": null,
   "metadata": {},
   "outputs": [],
   "source": [
    "print(accuracy_score(y_test,y_pred))"
   ]
  },
  {
   "cell_type": "markdown",
   "metadata": {},
   "source": [
    "It looks like the linear SVM performs best on this model from both a precision and recall perspective. Remember that precision are the accuracy of the prediction and recall is how much of the true positive space we are capturing. \n",
    "\n",
    "What does this mean about our underlying data?"
   ]
  },
  {
   "cell_type": "markdown",
   "metadata": {},
   "source": [
    "Source: https://stackabuse.com/implementing-svm-and-kernel-svm-with-pythons-scikit-learn/, https://jakevdp.github.io/PythonDataScienceHandbook/05.07-support-vector-machines.html, https://gist.github.com/WittmannF/60680723ed8dd0cb993051a7448f7805"
   ]
  },
  {
   "cell_type": "code",
   "execution_count": 218,
   "metadata": {},
   "outputs": [],
   "source": [
    "# View probabilities  entrenamiento SVM polinomial:\n",
    "probas = modelo_poly.predict_proba(train_X)\n",
    "n_classes = np.unique(y_train_pred).size\n"
   ]
  },
  {
   "cell_type": "code",
   "execution_count": 219,
   "metadata": {},
   "outputs": [
    {
     "name": "stdout",
     "output_type": "stream",
     "text": [
      "[0.0029908055169558653, 0.02400188680999118, 0.08898722486855538, 0.06136981136771408, 0.09029643063705867, 0.04692370471450089, 0.04694740889217647, 0.006675226819519981, 0.09027337998266212, 0.26878003146048585, 0.17294902408730595, 0.09032355714948037, 0.1403513205641658, 0.9412415593145076, 0.5518709203668478, 0.99317862254359, 0.8619158592885725, 0.6638264150674907, 0.7452799770089352, 0.9803647414916105, 0.864330819500921, 0.06041479439952317, 0.0904209988346799, 0.5441891392506747, 0.9999983441351391, 0.9967959843858001, 0.999999996579254, 0.9704236001867831, 0.9956686278001882, 0.9820579988079912, 0.9964253732624665, 0.9920326496863043, 0.9999893308902822, 0.9999995101316179, 0.9564376934470645, 0.9353485371866832, 0.9999967166892832, 0.9939201572811583, 0.961778145902803, 0.999991013097017, 0.9999990111257653, 0.9928355321992414, 0.9855155723082478, 0.9819180334672037, 0.9731791525331789, 0.9455112592905318, 0.999997330015757, 0.9999919519973971, 0.9949430466834633, 0.9906462852243889, 0.9935786722007093, 0.9999992184085528, 0.9642648412894795, 0.9852708157152932, 0.9868373944398683, 0.9856003884179251, 0.9843178511970967, 0.989268872627195, 0.9923076919373945, 0.9968001273397968, 0.9949387551488648, 0.9949470641637151, 0.9999970479933643, 0.9882533674014228, 0.9871065936127139, 0.9999926948164513, 0.9768355581411563, 0.9735725901876673, 0.994508620503799, 0.9826288361392659, 0.9999969972931714, 0.9891441241818415, 0.9971807291699633, 0.9951777697807621, 0.9999967438577306, 0.9304504716580327, 0.9999872637324208, 0.9948145616008367, 0.9999970790448761, 0.9999997763779971, 0.9999971610421186, 0.9999969321030149, 0.9999900237741424, 0.9999977147282848, 0.9999998782132452, 0.9999965781542784, 0.999996176145722, 0.9598924401689962, 0.9908091222970787, 0.9999879721146315, 0.9999996041755748, 0.9999909075124388, 0.9999919814419391, 0.9999988032814707, 0.9960645714553035, 0.9959998313150407, 0.9999897508091509, 0.9953982037037473, 0.9896609547982292, 0.9953613111549027, 0.9999980963967909, 0.9972525915695878, 0.9930457037716468, 0.9902824827112164]\n"
     ]
    },
    {
     "data": {
      "text/plain": [
       "104"
      ]
     },
     "execution_count": 219,
     "metadata": {},
     "output_type": "execute_result"
    }
   ],
   "source": [
    "prob_modelo2 = list()\n",
    "for k in range(len(probas)):\n",
    "    if (probas[k][1]>probas[k][0]):\n",
    "        prob_modelo2.append(probas[k][1])\n",
    "    else:\n",
    "        prob_modelo2.append(probas[k][1])\n",
    "print(prob_modelo2)\n",
    "                   \n",
    "len(prob_modelo2) "
   ]
  },
  {
   "cell_type": "code",
   "execution_count": 220,
   "metadata": {},
   "outputs": [
    {
     "name": "stdout",
     "output_type": "stream",
     "text": [
      "['Healthy', 'Healthy', 'Healthy', 'Healthy', 'Healthy', 'Healthy', 'Healthy', 'Healthy', 'Healthy', 'Healthy', 'Healthy', 'Healthy', 'Healthy', 'Sev 1', 'Pre-symp', 'Sev 1', 'Pre-symp', 'Sev 1', 'Sev 1', 'Sev 1', 'Sev 1', 'Healthy', 'Healthy', 'Healthy', 'Sev 1', 'Sev 1', 'Sev 1', 'Pre-symp', 'Pre-symp', 'Pre-symp', 'Sev 1', 'Pre-symp', 'Sev 1', 'Sev 1', 'Pre-symp', 'Pre-symp', 'Sev 1', 'Sev 1', 'Pre-symp', 'Pre-symp', 'Sev 2', 'Sev 1', 'Pre-symp', 'Sev 1', 'Pre-symp', 'Sev 1', 'Sev 1', 'Sev 1', 'Sev 2', 'Pre-symp', 'Sev 1', 'Sev 1', 'Sev 1', 'Sev 1', 'Sev 1', 'Sev 1', 'Sev 1', 'Sev 1', 'Sev 1', 'Sev 1', 'Sev 2', 'Sev 1', 'Sev 2', 'Sev 2', 'Sev 2', 'Sev 1', 'Sev 1', 'Sev 1', 'Sev 1', 'Sev 1', 'Sev 2', 'Sev 2', 'Sev 1', 'Sev 1', 'Sev 1', 'Sev 1', 'Sev 2', 'Sev 2', 'Sev 1', 'Pre-symp', 'Pre-symp', 'Pre-symp', 'Sev 1', 'Sev 1', 'Sev 1', 'Sev 1', 'Sev 1', 'Sev 2', 'Sev 1', 'Sev 2', 'Sev 2', 'Sev 1', 'Sev 1', 'Sev 1', 'Sev 1', 'Sev 2', 'Sev 2', 'Sev 1', 'Sev 2', 'Sev 1', 'Sev 2', 'Sev 2', 'Sev 1', 'Sev 1']\n"
     ]
    },
    {
     "data": {
      "text/plain": [
       "104"
      ]
     },
     "execution_count": 220,
     "metadata": {},
     "output_type": "execute_result"
    }
   ],
   "source": [
    "\n",
    "sev=datos2b[1]\n",
    "severity = list()\n",
    "for k in range(len(sev)):\n",
    "    if (sev[k]==0):\n",
    "        severity.append(\"Healthy\")\n",
    "    else:\n",
    "        if (sev[k]==1):\n",
    "            severity.append(\"Pre-symp\")\n",
    "        else:\n",
    "            if (sev[k]==2):\n",
    "                severity.append(\"Sev 1\")\n",
    "            else:\n",
    "                severity.append(\"Sev 2\")\n",
    "    \n",
    "       \n",
    "print(severity)\n",
    "len(severity)"
   ]
  },
  {
   "cell_type": "code",
   "execution_count": 221,
   "metadata": {},
   "outputs": [
    {
     "data": {
      "image/png": "[encoded data removed]",
      "text/plain": [
       "<Figure size 640x480 with 1 Axes>"
      ]
     },
     "metadata": {},
     "output_type": "display_data"
    },
    {
     "name": "stdout",
     "output_type": "stream",
     "text": [
      "<ggplot: (-9223372021085651182)>\n"
     ]
    }
   ],
   "source": [
    "x=range(1,105)\n",
    "\n",
    "df = pd.DataFrame({\"Leaves\":x, \"Y probability\":prob_modelo2, 'Severity':severity})\n",
    "\n",
    "g= ggplot(df) + geom_point(aes(x=\"Leaves\", y=\"Y probability\", colour = 'Severity'),size=2) + \\\n",
    "scale_colour_manual(values=[\"green\",\"turquoise\",\"blue\", \"red\"], limits=[\"Healthy\", \"Pre-symp\", \"Sev 1\", \"Sev 2\"]) + \\\n",
    "geom_hline(yintercept=0.5, linetype=\"dashed\", color = \"red\", size=0.7)+ guides(color = guide_legend(order=1))\n",
    "print(g)\n",
    "\n",
    "#scale_colour_brewer(type=\"qual\", palette= \"Set1\") + \\"
   ]
  },
  {
   "cell_type": "code",
   "execution_count": 222,
   "metadata": {},
   "outputs": [
    {
     "name": "stderr",
     "output_type": "stream",
     "text": [
      "C:\\Users\\Usuario\\AppData\\Roaming\\Python\\Python37\\site-packages\\plotnine\\ggplot.py:729: PlotnineWarning: Saving 6.4 x 4.8 in image.\n",
      "C:\\Users\\Usuario\\AppData\\Roaming\\Python\\Python37\\site-packages\\plotnine\\ggplot.py:730: PlotnineWarning: Filename: D:/ugarte/usal/RIP/estudio doctoral/ACADEMICO USAL/tesis/figuras/figura_svm2_prob1.png\n"
     ]
    }
   ],
   "source": [
    "g.save(\"D:/ugarte/usal/RIP/estudio doctoral/ACADEMICO USAL/tesis/figuras/figura_svm2_prob1.png\")"
   ]
  },
  {
   "cell_type": "code",
   "execution_count": 212,
   "metadata": {},
   "outputs": [],
   "source": [
    "# View probabilities SVM polinomial\n",
    "probas = modelo_poly.predict_proba(test_X)\n",
    "n_classes = np.unique(y_train_pred).size"
   ]
  },
  {
   "cell_type": "code",
   "execution_count": 213,
   "metadata": {},
   "outputs": [
    {
     "name": "stdout",
     "output_type": "stream",
     "text": [
      "[0.002532891442922759, 0.018422837604306977, 0.06808329904122142, 0.09829326001226549, 0.06014828414320949, 0.03665245651973257, 0.05128130300326664, 0.0064858094259024335, 0.34685804565589884, 0.1750306858482978, 0.2609559785280989, 0.07310501432864447, 0.9593241350476213, 0.11647781447886373, 0.9699251021852671, 0.07929699392881948, 0.9999999643849439, 0.9319434572003611, 0.991719469690229, 0.9765429124218612, 0.992078030158133, 0.9909518940453691, 0.9954820412058037, 0.9822123994152835, 0.9999999935594936, 0.9966965225470178, 0.9819995867406888, 0.987861973087448, 0.9822900640302173, 0.9942658988097873, 0.9999812070569535, 0.9999949219382221]\n"
     ]
    },
    {
     "data": {
      "text/plain": [
       "32"
      ]
     },
     "execution_count": 213,
     "metadata": {},
     "output_type": "execute_result"
    }
   ],
   "source": [
    "prob_modelo2 = list()\n",
    "for k in range(len(probas)):\n",
    "    if (probas[k][1]>probas[k][0]):\n",
    "        prob_modelo2.append(probas[k][1])\n",
    "    else:\n",
    "        prob_modelo2.append(probas[k][1])\n",
    "print(prob_modelo2)\n",
    "                   \n",
    "len(prob_modelo2) "
   ]
  },
  {
   "cell_type": "code",
   "execution_count": 214,
   "metadata": {},
   "outputs": [
    {
     "name": "stdout",
     "output_type": "stream",
     "text": [
      "['Healthy', 'Healthy', 'Healthy', 'Healthy', 'Healthy', 'Healthy', 'Healthy', 'Healthy', 'Healthy', 'Healthy', 'Healthy', 'Healthy', 'Healthy', 'Healthy', 'Healthy', 'Healthy', 'Sev 1', 'Sev 1', 'Sev 1', 'Sev 1', 'Sev 1', 'Sev 1', 'Sev 1', 'Sev 1', 'Sev 1', 'Sev 2', 'Sev 1', 'Sev 2', 'Sev 1', 'Pre-symp', 'Sev 2', 'Sev 2']\n"
     ]
    }
   ],
   "source": [
    "\n",
    "sev=datos_add[1]\n",
    "severity = list()\n",
    "for k in range(len(sev)):\n",
    "    if (sev[k]==0):\n",
    "        severity.append(\"Healthy\")\n",
    "    else:\n",
    "        if (sev[k]==1):\n",
    "            severity.append(\"Pre-symp\")\n",
    "        else:\n",
    "            if (sev[k]==2):\n",
    "                severity.append(\"Sev 1\")\n",
    "            else:\n",
    "                severity.append(\"Sev 2\")\n",
    "    \n",
    "       \n",
    "print(severity)"
   ]
  },
  {
   "cell_type": "code",
   "execution_count": 215,
   "metadata": {},
   "outputs": [
    {
     "data": {
      "image/png": "[encoded data removed]",
      "text/plain": [
       "<Figure size 640x480 with 1 Axes>"
      ]
     },
     "metadata": {},
     "output_type": "display_data"
    },
    {
     "name": "stdout",
     "output_type": "stream",
     "text": [
      "<ggplot: (-9223372021085493223)>\n"
     ]
    }
   ],
   "source": [
    "x=range(1,33)\n",
    "\n",
    "df = pd.DataFrame({\"Leaves\":x, \"Y probability\":prob_modelo2, 'Severity':severity})\n",
    "\n",
    "g= ggplot(df) + geom_point(aes(x=\"Leaves\", y=\"Y probability\", colour = 'Severity'),size=2) + \\\n",
    "scale_colour_manual(values=[\"green\",\"turquoise\",\"blue\", \"red\"], limits=[\"Healthy\", \"Pre-symp\", \"Sev 1\", \"Sev 2\"]) + \\\n",
    "geom_hline(yintercept=0.5, linetype=\"dashed\", color = \"red\", size=0.7)+ guides(color = guide_legend(order=1))\n",
    "print(g)\n"
   ]
  },
  {
   "cell_type": "code",
   "execution_count": 217,
   "metadata": {},
   "outputs": [
    {
     "name": "stderr",
     "output_type": "stream",
     "text": [
      "C:\\Users\\Usuario\\AppData\\Roaming\\Python\\Python37\\site-packages\\plotnine\\ggplot.py:729: PlotnineWarning: Saving 6.4 x 4.8 in image.\n",
      "C:\\Users\\Usuario\\AppData\\Roaming\\Python\\Python37\\site-packages\\plotnine\\ggplot.py:730: PlotnineWarning: Filename: D:/ugarte/usal/RIP/estudio doctoral/ACADEMICO USAL/tesis/figuras/figura_svm2_prob2.png\n"
     ]
    }
   ],
   "source": [
    "g.save(\"D:/ugarte/usal/RIP/estudio doctoral/ACADEMICO USAL/tesis/figuras/figura_svm2_prob2.png\")"
   ]
  },
  {
   "cell_type": "code",
   "execution_count": null,
   "metadata": {},
   "outputs": [],
   "source": []
  },
  {
   "cell_type": "code",
   "execution_count": null,
   "metadata": {},
   "outputs": [],
   "source": []
  }
 ],
 "metadata": {
  "kernelspec": {
   "display_name": "Python 3 (ipykernel)",
   "language": "python",
   "name": "python3"
  },
  "language_info": {
   "codemirror_mode": {
    "name": "ipython",
    "version": 3
   },
   "file_extension": ".py",
   "mimetype": "text/x-python",
   "name": "python",
   "nbconvert_exporter": "python",
   "pygments_lexer": "ipython3",
   "version": "3.9.7"
  }
 },
 "nbformat": 4,
 "nbformat_minor": 2
}
