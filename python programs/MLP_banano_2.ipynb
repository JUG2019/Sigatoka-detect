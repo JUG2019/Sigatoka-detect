{
 "cells": [
  {
   "cell_type": "code",
   "execution_count": 47,
   "metadata": {},
   "outputs": [],
   "source": [
    "# mlp for binary classification\n",
    "\n",
    "import pandas as pd\n",
    "import seaborn as sns\n",
    "import numpy as np\n",
    "import pydot\n",
    "from scipy import stats\n",
    "import matplotlib.pyplot as plt\n",
    "import seaborn as sn\n",
    "from plotnine import *\n",
    "#import pyplot\n",
    "\n",
    "from sklearn.model_selection import train_test_split\n",
    "from sklearn.preprocessing import LabelEncoder\n",
    "from tensorflow.keras import Sequential\n",
    "from tensorflow.keras.layers import Dense\n",
    "from tensorflow.keras.optimizers import SGD\n",
    "from tensorflow.keras.utils import plot_model\n",
    "from tensorflow.keras.callbacks import Callback\n",
    "from tensorflow.keras.models import load_model\n",
    "\n",
    "from sklearn.metrics import classification_report, confusion_matrix, accuracy_score, precision_score, recall_score, f1_score, roc_auc_score, roc_curve, cohen_kappa_score\n",
    "from sklearn.utils.multiclass import unique_labels\n",
    "\n",
    "\n",
    "\n",
    "#from tensorflow.keras.layers import advanced_activations"
   ]
  },
  {
   "cell_type": "code",
   "execution_count": 2,
   "metadata": {},
   "outputs": [],
   "source": [
    "#load data \n",
    "dir_file1= \"D:/ugarte/datos/datos ban 03 2019/\"\n",
    "datos = pd.read_csv(\"D:/ugarte/datos/datos ban 03 2019/datos032019.csv\", header = None, encoding=\"ISO-8859-1\")\n",
    "\n",
    "dir_file2= \"D:/ugarte/datos/datos ban 03 2019 adicionales/\"\n",
    "datos_add = pd.read_csv(\"D:/ugarte/datos/datos ban 03 2019 adicionales/datos_add_03_2019.csv\", header= None, encoding=\"ISO-8859-1\")"
   ]
  },
  {
   "cell_type": "code",
   "execution_count": 4,
   "metadata": {},
   "outputs": [
    {
     "data": {
      "text/html": [
       "<div>\n",
       "<style scoped>\n",
       "    .dataframe tbody tr th:only-of-type {\n",
       "        vertical-align: middle;\n",
       "    }\n",
       "\n",
       "    .dataframe tbody tr th {\n",
       "        vertical-align: top;\n",
       "    }\n",
       "\n",
       "    .dataframe thead th {\n",
       "        text-align: right;\n",
       "    }\n",
       "</style>\n",
       "<table border=\"1\" class=\"dataframe\">\n",
       "  <thead>\n",
       "    <tr style=\"text-align: right;\">\n",
       "      <th></th>\n",
       "      <th>0</th>\n",
       "      <th>1</th>\n",
       "      <th>2</th>\n",
       "      <th>3</th>\n",
       "      <th>4</th>\n",
       "      <th>5</th>\n",
       "      <th>6</th>\n",
       "      <th>7</th>\n",
       "      <th>8</th>\n",
       "      <th>9</th>\n",
       "      <th>...</th>\n",
       "      <th>517</th>\n",
       "      <th>518</th>\n",
       "      <th>519</th>\n",
       "      <th>520</th>\n",
       "      <th>521</th>\n",
       "      <th>522</th>\n",
       "      <th>523</th>\n",
       "      <th>524</th>\n",
       "      <th>525</th>\n",
       "      <th>526</th>\n",
       "    </tr>\n",
       "  </thead>\n",
       "  <tbody>\n",
       "    <tr>\n",
       "      <th>0</th>\n",
       "      <td>Experimento-2017-03-06 22-41-24</td>\n",
       "      <td>0</td>\n",
       "      <td>0</td>\n",
       "      <td>NaN</td>\n",
       "      <td>NaN</td>\n",
       "      <td>NaN</td>\n",
       "      <td>NaN</td>\n",
       "      <td>-1.39562</td>\n",
       "      <td>-1.30664</td>\n",
       "      <td>-1.24937</td>\n",
       "      <td>...</td>\n",
       "      <td>0.456231</td>\n",
       "      <td>0.443879</td>\n",
       "      <td>0.432634</td>\n",
       "      <td>0.427515</td>\n",
       "      <td>0.433340</td>\n",
       "      <td>0.421868</td>\n",
       "      <td>0.379341</td>\n",
       "      <td>0.292351</td>\n",
       "      <td>0.147487</td>\n",
       "      <td>-0.068658</td>\n",
       "    </tr>\n",
       "    <tr>\n",
       "      <th>1</th>\n",
       "      <td>Experimento-2017-03-06 22-46-23</td>\n",
       "      <td>0</td>\n",
       "      <td>0</td>\n",
       "      <td>NaN</td>\n",
       "      <td>NaN</td>\n",
       "      <td>NaN</td>\n",
       "      <td>NaN</td>\n",
       "      <td>-1.42109</td>\n",
       "      <td>-1.36845</td>\n",
       "      <td>-1.32830</td>\n",
       "      <td>...</td>\n",
       "      <td>0.425723</td>\n",
       "      <td>0.409881</td>\n",
       "      <td>0.396079</td>\n",
       "      <td>0.397572</td>\n",
       "      <td>0.398486</td>\n",
       "      <td>0.379157</td>\n",
       "      <td>0.316693</td>\n",
       "      <td>0.193333</td>\n",
       "      <td>-0.008684</td>\n",
       "      <td>-0.307117</td>\n",
       "    </tr>\n",
       "    <tr>\n",
       "      <th>2</th>\n",
       "      <td>Experimento-2017-03-06 22-53-36</td>\n",
       "      <td>0</td>\n",
       "      <td>0</td>\n",
       "      <td>NaN</td>\n",
       "      <td>NaN</td>\n",
       "      <td>NaN</td>\n",
       "      <td>NaN</td>\n",
       "      <td>-1.54161</td>\n",
       "      <td>-1.42342</td>\n",
       "      <td>-1.34301</td>\n",
       "      <td>...</td>\n",
       "      <td>0.400387</td>\n",
       "      <td>0.386088</td>\n",
       "      <td>0.378870</td>\n",
       "      <td>0.386314</td>\n",
       "      <td>0.370911</td>\n",
       "      <td>0.341893</td>\n",
       "      <td>0.270430</td>\n",
       "      <td>0.140535</td>\n",
       "      <td>-0.063779</td>\n",
       "      <td>-0.358497</td>\n",
       "    </tr>\n",
       "    <tr>\n",
       "      <th>3</th>\n",
       "      <td>Experimento-2017-03-06 22-59-21</td>\n",
       "      <td>0</td>\n",
       "      <td>0</td>\n",
       "      <td>NaN</td>\n",
       "      <td>NaN</td>\n",
       "      <td>NaN</td>\n",
       "      <td>NaN</td>\n",
       "      <td>-1.53054</td>\n",
       "      <td>-1.42613</td>\n",
       "      <td>-1.35777</td>\n",
       "      <td>...</td>\n",
       "      <td>0.390679</td>\n",
       "      <td>0.378349</td>\n",
       "      <td>0.365595</td>\n",
       "      <td>0.367024</td>\n",
       "      <td>0.372483</td>\n",
       "      <td>0.351041</td>\n",
       "      <td>0.282968</td>\n",
       "      <td>0.149842</td>\n",
       "      <td>-0.066760</td>\n",
       "      <td>-0.385260</td>\n",
       "    </tr>\n",
       "    <tr>\n",
       "      <th>4</th>\n",
       "      <td>Experimento-2017-03-06 23-04-04</td>\n",
       "      <td>0</td>\n",
       "      <td>0</td>\n",
       "      <td>NaN</td>\n",
       "      <td>NaN</td>\n",
       "      <td>NaN</td>\n",
       "      <td>NaN</td>\n",
       "      <td>-1.57307</td>\n",
       "      <td>-1.44454</td>\n",
       "      <td>-1.36082</td>\n",
       "      <td>...</td>\n",
       "      <td>0.396107</td>\n",
       "      <td>0.382752</td>\n",
       "      <td>0.369996</td>\n",
       "      <td>0.373659</td>\n",
       "      <td>0.367087</td>\n",
       "      <td>0.341704</td>\n",
       "      <td>0.274615</td>\n",
       "      <td>0.149738</td>\n",
       "      <td>-0.049007</td>\n",
       "      <td>-0.337702</td>\n",
       "    </tr>\n",
       "  </tbody>\n",
       "</table>\n",
       "<p>5 rows × 527 columns</p>\n",
       "</div>"
      ],
      "text/plain": [
       "                               0    1    2    3    4    5    6        7    \\\n",
       "0  Experimento-2017-03-06 22-41-24    0    0  NaN  NaN  NaN  NaN -1.39562   \n",
       "1  Experimento-2017-03-06 22-46-23    0    0  NaN  NaN  NaN  NaN -1.42109   \n",
       "2  Experimento-2017-03-06 22-53-36    0    0  NaN  NaN  NaN  NaN -1.54161   \n",
       "3  Experimento-2017-03-06 22-59-21    0    0  NaN  NaN  NaN  NaN -1.53054   \n",
       "4  Experimento-2017-03-06 23-04-04    0    0  NaN  NaN  NaN  NaN -1.57307   \n",
       "\n",
       "       8        9    ...       517       518       519       520       521  \\\n",
       "0 -1.30664 -1.24937  ...  0.456231  0.443879  0.432634  0.427515  0.433340   \n",
       "1 -1.36845 -1.32830  ...  0.425723  0.409881  0.396079  0.397572  0.398486   \n",
       "2 -1.42342 -1.34301  ...  0.400387  0.386088  0.378870  0.386314  0.370911   \n",
       "3 -1.42613 -1.35777  ...  0.390679  0.378349  0.365595  0.367024  0.372483   \n",
       "4 -1.44454 -1.36082  ...  0.396107  0.382752  0.369996  0.373659  0.367087   \n",
       "\n",
       "        522       523       524       525       526  \n",
       "0  0.421868  0.379341  0.292351  0.147487 -0.068658  \n",
       "1  0.379157  0.316693  0.193333 -0.008684 -0.307117  \n",
       "2  0.341893  0.270430  0.140535 -0.063779 -0.358497  \n",
       "3  0.351041  0.282968  0.149842 -0.066760 -0.385260  \n",
       "4  0.341704  0.274615  0.149738 -0.049007 -0.337702  \n",
       "\n",
       "[5 rows x 527 columns]"
      ]
     },
     "execution_count": 4,
     "metadata": {},
     "output_type": "execute_result"
    }
   ],
   "source": [
    "datos_add.head()"
   ]
  },
  {
   "cell_type": "code",
   "execution_count": 5,
   "metadata": {},
   "outputs": [
    {
     "name": "stdout",
     "output_type": "stream",
     "text": [
      "32\n",
      "There are 32 observations and 527 features\n"
     ]
    }
   ],
   "source": [
    "nfilas_datos_add = datos_add.shape[0]\n",
    "print(nfilas_datos_add)\n",
    "print(f'There are {datos_add.shape[0]} observations and {datos_add.shape[1]} features')"
   ]
  },
  {
   "cell_type": "code",
   "execution_count": 6,
   "metadata": {},
   "outputs": [
    {
     "data": {
      "text/html": [
       "<div>\n",
       "<style scoped>\n",
       "    .dataframe tbody tr th:only-of-type {\n",
       "        vertical-align: middle;\n",
       "    }\n",
       "\n",
       "    .dataframe tbody tr th {\n",
       "        vertical-align: top;\n",
       "    }\n",
       "\n",
       "    .dataframe thead th {\n",
       "        text-align: right;\n",
       "    }\n",
       "</style>\n",
       "<table border=\"1\" class=\"dataframe\">\n",
       "  <thead>\n",
       "    <tr style=\"text-align: right;\">\n",
       "      <th></th>\n",
       "      <th>0</th>\n",
       "      <th>1</th>\n",
       "      <th>2</th>\n",
       "      <th>3</th>\n",
       "      <th>4</th>\n",
       "    </tr>\n",
       "  </thead>\n",
       "  <tbody>\n",
       "    <tr>\n",
       "      <th>0</th>\n",
       "      <td>Experimento-2017-03-06 22-41-24</td>\n",
       "      <td>0</td>\n",
       "      <td>0</td>\n",
       "      <td>NaN</td>\n",
       "      <td>NaN</td>\n",
       "    </tr>\n",
       "    <tr>\n",
       "      <th>1</th>\n",
       "      <td>Experimento-2017-03-06 22-46-23</td>\n",
       "      <td>0</td>\n",
       "      <td>0</td>\n",
       "      <td>NaN</td>\n",
       "      <td>NaN</td>\n",
       "    </tr>\n",
       "    <tr>\n",
       "      <th>2</th>\n",
       "      <td>Experimento-2017-03-06 22-53-36</td>\n",
       "      <td>0</td>\n",
       "      <td>0</td>\n",
       "      <td>NaN</td>\n",
       "      <td>NaN</td>\n",
       "    </tr>\n",
       "    <tr>\n",
       "      <th>3</th>\n",
       "      <td>Experimento-2017-03-06 22-59-21</td>\n",
       "      <td>0</td>\n",
       "      <td>0</td>\n",
       "      <td>NaN</td>\n",
       "      <td>NaN</td>\n",
       "    </tr>\n",
       "    <tr>\n",
       "      <th>4</th>\n",
       "      <td>Experimento-2017-03-06 23-04-04</td>\n",
       "      <td>0</td>\n",
       "      <td>0</td>\n",
       "      <td>NaN</td>\n",
       "      <td>NaN</td>\n",
       "    </tr>\n",
       "    <tr>\n",
       "      <th>5</th>\n",
       "      <td>Experimento-2017-03-06 23-09-25</td>\n",
       "      <td>0</td>\n",
       "      <td>0</td>\n",
       "      <td>NaN</td>\n",
       "      <td>NaN</td>\n",
       "    </tr>\n",
       "    <tr>\n",
       "      <th>6</th>\n",
       "      <td>Experimento-2017-03-15 16-59-58</td>\n",
       "      <td>0</td>\n",
       "      <td>0</td>\n",
       "      <td>NaN</td>\n",
       "      <td>NaN</td>\n",
       "    </tr>\n",
       "    <tr>\n",
       "      <th>7</th>\n",
       "      <td>Experimento-2017-03-15 17-04-41</td>\n",
       "      <td>0</td>\n",
       "      <td>0</td>\n",
       "      <td>NaN</td>\n",
       "      <td>NaN</td>\n",
       "    </tr>\n",
       "    <tr>\n",
       "      <th>9</th>\n",
       "      <td>Experimento-2017-03-15 17-13-02</td>\n",
       "      <td>0</td>\n",
       "      <td>0</td>\n",
       "      <td>NaN</td>\n",
       "      <td>NaN</td>\n",
       "    </tr>\n",
       "    <tr>\n",
       "      <th>10</th>\n",
       "      <td>Experimento-2017-03-15 17-16-37</td>\n",
       "      <td>0</td>\n",
       "      <td>0</td>\n",
       "      <td>NaN</td>\n",
       "      <td>NaN</td>\n",
       "    </tr>\n",
       "    <tr>\n",
       "      <th>11</th>\n",
       "      <td>Experimento-2017-03-15 17-26-58</td>\n",
       "      <td>0</td>\n",
       "      <td>0</td>\n",
       "      <td>NaN</td>\n",
       "      <td>NaN</td>\n",
       "    </tr>\n",
       "    <tr>\n",
       "      <th>12</th>\n",
       "      <td>Experimento-2017-03-20 16-50-08</td>\n",
       "      <td>0</td>\n",
       "      <td>0</td>\n",
       "      <td>NaN</td>\n",
       "      <td>NaN</td>\n",
       "    </tr>\n",
       "    <tr>\n",
       "      <th>13</th>\n",
       "      <td>Experimento-2017-03-20 17-16-05</td>\n",
       "      <td>0</td>\n",
       "      <td>0</td>\n",
       "      <td>NaN</td>\n",
       "      <td>NaN</td>\n",
       "    </tr>\n",
       "    <tr>\n",
       "      <th>14</th>\n",
       "      <td>Experimento-2017-03-22 17-20-08</td>\n",
       "      <td>2</td>\n",
       "      <td>1</td>\n",
       "      <td>NaN</td>\n",
       "      <td>NaN</td>\n",
       "    </tr>\n",
       "    <tr>\n",
       "      <th>15</th>\n",
       "      <td>Experimento-2017-03-22 17-55-49</td>\n",
       "      <td>1</td>\n",
       "      <td>1</td>\n",
       "      <td>NaN</td>\n",
       "      <td>NaN</td>\n",
       "    </tr>\n",
       "    <tr>\n",
       "      <th>16</th>\n",
       "      <td>Experimento-2017-03-22 18-02-15</td>\n",
       "      <td>2</td>\n",
       "      <td>1</td>\n",
       "      <td>NaN</td>\n",
       "      <td>NaN</td>\n",
       "    </tr>\n",
       "    <tr>\n",
       "      <th>17</th>\n",
       "      <td>Experimento-2017-03-22 18-03-38</td>\n",
       "      <td>1</td>\n",
       "      <td>1</td>\n",
       "      <td>NaN</td>\n",
       "      <td>NaN</td>\n",
       "    </tr>\n",
       "    <tr>\n",
       "      <th>18</th>\n",
       "      <td>Experimento-2017-03-27 17-12-08</td>\n",
       "      <td>2</td>\n",
       "      <td>1</td>\n",
       "      <td>NaN</td>\n",
       "      <td>NaN</td>\n",
       "    </tr>\n",
       "    <tr>\n",
       "      <th>19</th>\n",
       "      <td>Experimento-2017-03-27 17-29-07</td>\n",
       "      <td>2</td>\n",
       "      <td>1</td>\n",
       "      <td>NaN</td>\n",
       "      <td>NaN</td>\n",
       "    </tr>\n",
       "    <tr>\n",
       "      <th>20</th>\n",
       "      <td>Experimento-2017-03-27 17-35-12</td>\n",
       "      <td>2</td>\n",
       "      <td>1</td>\n",
       "      <td>NaN</td>\n",
       "      <td>NaN</td>\n",
       "    </tr>\n",
       "    <tr>\n",
       "      <th>21</th>\n",
       "      <td>Experimento-2017-03-27 17-46-22</td>\n",
       "      <td>2</td>\n",
       "      <td>1</td>\n",
       "      <td>NaN</td>\n",
       "      <td>NaN</td>\n",
       "    </tr>\n",
       "    <tr>\n",
       "      <th>22</th>\n",
       "      <td>Experimento-2017-03-27 18-03-23</td>\n",
       "      <td>0</td>\n",
       "      <td>0</td>\n",
       "      <td>NaN</td>\n",
       "      <td>NaN</td>\n",
       "    </tr>\n",
       "    <tr>\n",
       "      <th>23</th>\n",
       "      <td>Experimento-2017-03-27 18-12-37</td>\n",
       "      <td>0</td>\n",
       "      <td>0</td>\n",
       "      <td>NaN</td>\n",
       "      <td>NaN</td>\n",
       "    </tr>\n",
       "    <tr>\n",
       "      <th>24</th>\n",
       "      <td>Experimento-2017-03-29 18-32-33</td>\n",
       "      <td>0</td>\n",
       "      <td>0</td>\n",
       "      <td>NaN</td>\n",
       "      <td>NaN</td>\n",
       "    </tr>\n",
       "    <tr>\n",
       "      <th>27</th>\n",
       "      <td>Experimento-2017-03-31 18-26-26</td>\n",
       "      <td>2</td>\n",
       "      <td>1</td>\n",
       "      <td>NaN</td>\n",
       "      <td>NaN</td>\n",
       "    </tr>\n",
       "    <tr>\n",
       "      <th>28</th>\n",
       "      <td>Experimento-2017-03-31 18-30-36</td>\n",
       "      <td>2</td>\n",
       "      <td>1</td>\n",
       "      <td>NaN</td>\n",
       "      <td>NaN</td>\n",
       "    </tr>\n",
       "    <tr>\n",
       "      <th>29</th>\n",
       "      <td>Experimento-2017-03-31 18-36-00</td>\n",
       "      <td>2</td>\n",
       "      <td>1</td>\n",
       "      <td>NaN</td>\n",
       "      <td>NaN</td>\n",
       "    </tr>\n",
       "  </tbody>\n",
       "</table>\n",
       "</div>"
      ],
      "text/plain": [
       "                                  0  1  2   3   4\n",
       "0   Experimento-2017-03-06 22-41-24  0  0 NaN NaN\n",
       "1   Experimento-2017-03-06 22-46-23  0  0 NaN NaN\n",
       "2   Experimento-2017-03-06 22-53-36  0  0 NaN NaN\n",
       "3   Experimento-2017-03-06 22-59-21  0  0 NaN NaN\n",
       "4   Experimento-2017-03-06 23-04-04  0  0 NaN NaN\n",
       "5   Experimento-2017-03-06 23-09-25  0  0 NaN NaN\n",
       "6   Experimento-2017-03-15 16-59-58  0  0 NaN NaN\n",
       "7   Experimento-2017-03-15 17-04-41  0  0 NaN NaN\n",
       "9   Experimento-2017-03-15 17-13-02  0  0 NaN NaN\n",
       "10  Experimento-2017-03-15 17-16-37  0  0 NaN NaN\n",
       "11  Experimento-2017-03-15 17-26-58  0  0 NaN NaN\n",
       "12  Experimento-2017-03-20 16-50-08  0  0 NaN NaN\n",
       "13  Experimento-2017-03-20 17-16-05  0  0 NaN NaN\n",
       "14  Experimento-2017-03-22 17-20-08  2  1 NaN NaN\n",
       "15  Experimento-2017-03-22 17-55-49  1  1 NaN NaN\n",
       "16  Experimento-2017-03-22 18-02-15  2  1 NaN NaN\n",
       "17  Experimento-2017-03-22 18-03-38  1  1 NaN NaN\n",
       "18  Experimento-2017-03-27 17-12-08  2  1 NaN NaN\n",
       "19  Experimento-2017-03-27 17-29-07  2  1 NaN NaN\n",
       "20  Experimento-2017-03-27 17-35-12  2  1 NaN NaN\n",
       "21  Experimento-2017-03-27 17-46-22  2  1 NaN NaN\n",
       "22  Experimento-2017-03-27 18-03-23  0  0 NaN NaN\n",
       "23  Experimento-2017-03-27 18-12-37  0  0 NaN NaN\n",
       "24  Experimento-2017-03-29 18-32-33  0  0 NaN NaN\n",
       "27  Experimento-2017-03-31 18-26-26  2  1 NaN NaN\n",
       "28  Experimento-2017-03-31 18-30-36  2  1 NaN NaN\n",
       "29  Experimento-2017-03-31 18-36-00  2  1 NaN NaN"
      ]
     },
     "execution_count": 6,
     "metadata": {},
     "output_type": "execute_result"
    }
   ],
   "source": [
    "datos1= datos[datos[6]!=1]\n",
    "datos1.iloc[0:27,0:5]"
   ]
  },
  {
   "cell_type": "code",
   "execution_count": 7,
   "metadata": {},
   "outputs": [
    {
     "data": {
      "text/html": [
       "<div>\n",
       "<style scoped>\n",
       "    .dataframe tbody tr th:only-of-type {\n",
       "        vertical-align: middle;\n",
       "    }\n",
       "\n",
       "    .dataframe tbody tr th {\n",
       "        vertical-align: top;\n",
       "    }\n",
       "\n",
       "    .dataframe thead th {\n",
       "        text-align: right;\n",
       "    }\n",
       "</style>\n",
       "<table border=\"1\" class=\"dataframe\">\n",
       "  <thead>\n",
       "    <tr style=\"text-align: right;\">\n",
       "      <th></th>\n",
       "      <th>0</th>\n",
       "      <th>1</th>\n",
       "      <th>2</th>\n",
       "      <th>3</th>\n",
       "      <th>4</th>\n",
       "    </tr>\n",
       "  </thead>\n",
       "  <tbody>\n",
       "    <tr>\n",
       "      <th>0</th>\n",
       "      <td>Experimento-2017-03-06 22-41-24</td>\n",
       "      <td>0</td>\n",
       "      <td>0</td>\n",
       "      <td>NaN</td>\n",
       "      <td>NaN</td>\n",
       "    </tr>\n",
       "    <tr>\n",
       "      <th>1</th>\n",
       "      <td>Experimento-2017-03-06 22-46-23</td>\n",
       "      <td>0</td>\n",
       "      <td>0</td>\n",
       "      <td>NaN</td>\n",
       "      <td>NaN</td>\n",
       "    </tr>\n",
       "    <tr>\n",
       "      <th>2</th>\n",
       "      <td>Experimento-2017-03-06 22-53-36</td>\n",
       "      <td>0</td>\n",
       "      <td>0</td>\n",
       "      <td>NaN</td>\n",
       "      <td>NaN</td>\n",
       "    </tr>\n",
       "    <tr>\n",
       "      <th>3</th>\n",
       "      <td>Experimento-2017-03-06 22-59-21</td>\n",
       "      <td>0</td>\n",
       "      <td>0</td>\n",
       "      <td>NaN</td>\n",
       "      <td>NaN</td>\n",
       "    </tr>\n",
       "    <tr>\n",
       "      <th>4</th>\n",
       "      <td>Experimento-2017-03-06 23-04-04</td>\n",
       "      <td>0</td>\n",
       "      <td>0</td>\n",
       "      <td>NaN</td>\n",
       "      <td>NaN</td>\n",
       "    </tr>\n",
       "    <tr>\n",
       "      <th>5</th>\n",
       "      <td>Experimento-2017-03-06 23-09-25</td>\n",
       "      <td>0</td>\n",
       "      <td>0</td>\n",
       "      <td>NaN</td>\n",
       "      <td>NaN</td>\n",
       "    </tr>\n",
       "    <tr>\n",
       "      <th>6</th>\n",
       "      <td>Experimento-2017-03-15 16-59-58</td>\n",
       "      <td>0</td>\n",
       "      <td>0</td>\n",
       "      <td>NaN</td>\n",
       "      <td>NaN</td>\n",
       "    </tr>\n",
       "    <tr>\n",
       "      <th>7</th>\n",
       "      <td>Experimento-2017-03-15 17-04-41</td>\n",
       "      <td>0</td>\n",
       "      <td>0</td>\n",
       "      <td>NaN</td>\n",
       "      <td>NaN</td>\n",
       "    </tr>\n",
       "    <tr>\n",
       "      <th>8</th>\n",
       "      <td>Experimento-2017-03-15 17-13-02</td>\n",
       "      <td>0</td>\n",
       "      <td>0</td>\n",
       "      <td>NaN</td>\n",
       "      <td>NaN</td>\n",
       "    </tr>\n",
       "    <tr>\n",
       "      <th>9</th>\n",
       "      <td>Experimento-2017-03-15 17-16-37</td>\n",
       "      <td>0</td>\n",
       "      <td>0</td>\n",
       "      <td>NaN</td>\n",
       "      <td>NaN</td>\n",
       "    </tr>\n",
       "    <tr>\n",
       "      <th>10</th>\n",
       "      <td>Experimento-2017-03-15 17-26-58</td>\n",
       "      <td>0</td>\n",
       "      <td>0</td>\n",
       "      <td>NaN</td>\n",
       "      <td>NaN</td>\n",
       "    </tr>\n",
       "    <tr>\n",
       "      <th>11</th>\n",
       "      <td>Experimento-2017-03-20 16-50-08</td>\n",
       "      <td>0</td>\n",
       "      <td>0</td>\n",
       "      <td>NaN</td>\n",
       "      <td>NaN</td>\n",
       "    </tr>\n",
       "    <tr>\n",
       "      <th>12</th>\n",
       "      <td>Experimento-2017-03-20 17-16-05</td>\n",
       "      <td>0</td>\n",
       "      <td>0</td>\n",
       "      <td>NaN</td>\n",
       "      <td>NaN</td>\n",
       "    </tr>\n",
       "    <tr>\n",
       "      <th>13</th>\n",
       "      <td>Experimento-2017-03-22 17-20-08</td>\n",
       "      <td>2</td>\n",
       "      <td>1</td>\n",
       "      <td>NaN</td>\n",
       "      <td>NaN</td>\n",
       "    </tr>\n",
       "    <tr>\n",
       "      <th>14</th>\n",
       "      <td>Experimento-2017-03-22 17-55-49</td>\n",
       "      <td>1</td>\n",
       "      <td>1</td>\n",
       "      <td>NaN</td>\n",
       "      <td>NaN</td>\n",
       "    </tr>\n",
       "    <tr>\n",
       "      <th>15</th>\n",
       "      <td>Experimento-2017-03-22 18-02-15</td>\n",
       "      <td>2</td>\n",
       "      <td>1</td>\n",
       "      <td>NaN</td>\n",
       "      <td>NaN</td>\n",
       "    </tr>\n",
       "    <tr>\n",
       "      <th>16</th>\n",
       "      <td>Experimento-2017-03-22 18-03-38</td>\n",
       "      <td>1</td>\n",
       "      <td>1</td>\n",
       "      <td>NaN</td>\n",
       "      <td>NaN</td>\n",
       "    </tr>\n",
       "    <tr>\n",
       "      <th>17</th>\n",
       "      <td>Experimento-2017-03-27 17-12-08</td>\n",
       "      <td>2</td>\n",
       "      <td>1</td>\n",
       "      <td>NaN</td>\n",
       "      <td>NaN</td>\n",
       "    </tr>\n",
       "    <tr>\n",
       "      <th>18</th>\n",
       "      <td>Experimento-2017-03-27 17-29-07</td>\n",
       "      <td>2</td>\n",
       "      <td>1</td>\n",
       "      <td>NaN</td>\n",
       "      <td>NaN</td>\n",
       "    </tr>\n",
       "    <tr>\n",
       "      <th>19</th>\n",
       "      <td>Experimento-2017-03-27 17-35-12</td>\n",
       "      <td>2</td>\n",
       "      <td>1</td>\n",
       "      <td>NaN</td>\n",
       "      <td>NaN</td>\n",
       "    </tr>\n",
       "    <tr>\n",
       "      <th>20</th>\n",
       "      <td>Experimento-2017-03-27 17-46-22</td>\n",
       "      <td>2</td>\n",
       "      <td>1</td>\n",
       "      <td>NaN</td>\n",
       "      <td>NaN</td>\n",
       "    </tr>\n",
       "    <tr>\n",
       "      <th>21</th>\n",
       "      <td>Experimento-2017-03-27 18-03-23</td>\n",
       "      <td>0</td>\n",
       "      <td>0</td>\n",
       "      <td>NaN</td>\n",
       "      <td>NaN</td>\n",
       "    </tr>\n",
       "    <tr>\n",
       "      <th>22</th>\n",
       "      <td>Experimento-2017-03-27 18-12-37</td>\n",
       "      <td>0</td>\n",
       "      <td>0</td>\n",
       "      <td>NaN</td>\n",
       "      <td>NaN</td>\n",
       "    </tr>\n",
       "    <tr>\n",
       "      <th>23</th>\n",
       "      <td>Experimento-2017-03-29 18-32-33</td>\n",
       "      <td>0</td>\n",
       "      <td>0</td>\n",
       "      <td>NaN</td>\n",
       "      <td>NaN</td>\n",
       "    </tr>\n",
       "    <tr>\n",
       "      <th>24</th>\n",
       "      <td>Experimento-2017-03-31 18-26-26</td>\n",
       "      <td>2</td>\n",
       "      <td>1</td>\n",
       "      <td>NaN</td>\n",
       "      <td>NaN</td>\n",
       "    </tr>\n",
       "    <tr>\n",
       "      <th>25</th>\n",
       "      <td>Experimento-2017-03-31 18-30-36</td>\n",
       "      <td>2</td>\n",
       "      <td>1</td>\n",
       "      <td>NaN</td>\n",
       "      <td>NaN</td>\n",
       "    </tr>\n",
       "    <tr>\n",
       "      <th>26</th>\n",
       "      <td>Experimento-2017-03-31 18-36-00</td>\n",
       "      <td>2</td>\n",
       "      <td>1</td>\n",
       "      <td>NaN</td>\n",
       "      <td>NaN</td>\n",
       "    </tr>\n",
       "  </tbody>\n",
       "</table>\n",
       "</div>"
      ],
      "text/plain": [
       "                                  0  1  2   3   4\n",
       "0   Experimento-2017-03-06 22-41-24  0  0 NaN NaN\n",
       "1   Experimento-2017-03-06 22-46-23  0  0 NaN NaN\n",
       "2   Experimento-2017-03-06 22-53-36  0  0 NaN NaN\n",
       "3   Experimento-2017-03-06 22-59-21  0  0 NaN NaN\n",
       "4   Experimento-2017-03-06 23-04-04  0  0 NaN NaN\n",
       "5   Experimento-2017-03-06 23-09-25  0  0 NaN NaN\n",
       "6   Experimento-2017-03-15 16-59-58  0  0 NaN NaN\n",
       "7   Experimento-2017-03-15 17-04-41  0  0 NaN NaN\n",
       "8   Experimento-2017-03-15 17-13-02  0  0 NaN NaN\n",
       "9   Experimento-2017-03-15 17-16-37  0  0 NaN NaN\n",
       "10  Experimento-2017-03-15 17-26-58  0  0 NaN NaN\n",
       "11  Experimento-2017-03-20 16-50-08  0  0 NaN NaN\n",
       "12  Experimento-2017-03-20 17-16-05  0  0 NaN NaN\n",
       "13  Experimento-2017-03-22 17-20-08  2  1 NaN NaN\n",
       "14  Experimento-2017-03-22 17-55-49  1  1 NaN NaN\n",
       "15  Experimento-2017-03-22 18-02-15  2  1 NaN NaN\n",
       "16  Experimento-2017-03-22 18-03-38  1  1 NaN NaN\n",
       "17  Experimento-2017-03-27 17-12-08  2  1 NaN NaN\n",
       "18  Experimento-2017-03-27 17-29-07  2  1 NaN NaN\n",
       "19  Experimento-2017-03-27 17-35-12  2  1 NaN NaN\n",
       "20  Experimento-2017-03-27 17-46-22  2  1 NaN NaN\n",
       "21  Experimento-2017-03-27 18-03-23  0  0 NaN NaN\n",
       "22  Experimento-2017-03-27 18-12-37  0  0 NaN NaN\n",
       "23  Experimento-2017-03-29 18-32-33  0  0 NaN NaN\n",
       "24  Experimento-2017-03-31 18-26-26  2  1 NaN NaN\n",
       "25  Experimento-2017-03-31 18-30-36  2  1 NaN NaN\n",
       "26  Experimento-2017-03-31 18-36-00  2  1 NaN NaN"
      ]
     },
     "execution_count": 7,
     "metadata": {},
     "output_type": "execute_result"
    }
   ],
   "source": [
    "datos1.reset_index(drop=True, inplace=True)\n",
    "datos1.iloc[0:27,0:5]"
   ]
  },
  {
   "cell_type": "code",
   "execution_count": 8,
   "metadata": {},
   "outputs": [
    {
     "name": "stdout",
     "output_type": "stream",
     "text": [
      "There are 104 observations and 527 features\n"
     ]
    }
   ],
   "source": [
    "print(f'There are {datos1.shape[0]} observations and {datos1.shape[1]} features')"
   ]
  },
  {
   "cell_type": "code",
   "execution_count": 9,
   "metadata": {},
   "outputs": [
    {
     "name": "stdout",
     "output_type": "stream",
     "text": [
      "104\n",
      "There are 104 observations and 527 features\n"
     ]
    }
   ],
   "source": [
    "#datos2=datos1.drop([9,26,40,41,45],axis=0)\n",
    "datos2b = datos1.copy()\n",
    "nfilas_datos2b  = datos2b.shape[0]\n",
    "print(nfilas_datos2b)\n",
    "print(f'There are {datos2b.shape[0]} observations and {datos2b.shape[1]} features')"
   ]
  },
  {
   "cell_type": "code",
   "execution_count": 10,
   "metadata": {},
   "outputs": [
    {
     "name": "stdout",
     "output_type": "stream",
     "text": [
      "There are 136 observations and 527 features\n"
     ]
    }
   ],
   "source": [
    "### preparación de datos escalados (estandarizados)\n",
    "datos3=datos2b.append(datos_add, ignore_index=True)\n",
    "print(f'There are {datos3.shape[0]} observations and {datos3.shape[1]} features')\n",
    "datos3_X =datos3.iloc[:,7:]\n",
    "datos3X_est = pd.DataFrame(stats.zscore(datos3_X, axis=1))\n",
    "datos3_Y = datos3.iloc[:,2]"
   ]
  },
  {
   "cell_type": "code",
   "execution_count": 11,
   "metadata": {},
   "outputs": [
    {
     "name": "stdout",
     "output_type": "stream",
     "text": [
      "There are 104 observations and 520 features\n"
     ]
    }
   ],
   "source": [
    "train3_X = datos3X_est.iloc[:nfilas_datos2b,:]\n",
    "print(f'There are {train3_X.shape[0]} observations and {train3_X.shape[1]} features')"
   ]
  },
  {
   "cell_type": "code",
   "execution_count": 12,
   "metadata": {},
   "outputs": [
    {
     "data": {
      "text/plain": [
       "0      0\n",
       "1      0\n",
       "2      0\n",
       "3      0\n",
       "4      0\n",
       "      ..\n",
       "99     1\n",
       "100    1\n",
       "101    1\n",
       "102    1\n",
       "103    1\n",
       "Name: 2, Length: 104, dtype: int64"
      ]
     },
     "execution_count": 12,
     "metadata": {},
     "output_type": "execute_result"
    }
   ],
   "source": [
    "train3_Y = datos3_Y[:nfilas_datos2b]\n",
    "len(train3_Y)\n",
    "#train3_Y1 = train3_Y.replace(to_replace=0,value=-1)\n",
    "train3_Y"
   ]
  },
  {
   "cell_type": "code",
   "execution_count": 13,
   "metadata": {},
   "outputs": [
    {
     "name": "stdout",
     "output_type": "stream",
     "text": [
      "There are 32 observations and 520 features\n"
     ]
    },
    {
     "data": {
      "text/plain": [
       "0     0\n",
       "1     0\n",
       "2     0\n",
       "3     0\n",
       "4     0\n",
       "5     0\n",
       "6     0\n",
       "7     0\n",
       "8     0\n",
       "9     0\n",
       "10    0\n",
       "11    0\n",
       "12    0\n",
       "13    0\n",
       "14    0\n",
       "15    0\n",
       "16    1\n",
       "17    1\n",
       "18    1\n",
       "19    1\n",
       "20    1\n",
       "21    1\n",
       "22    1\n",
       "23    1\n",
       "24    1\n",
       "25    1\n",
       "26    1\n",
       "27    1\n",
       "28    1\n",
       "29    1\n",
       "30    1\n",
       "31    1\n",
       "Name: 2, dtype: int64"
      ]
     },
     "execution_count": 13,
     "metadata": {},
     "output_type": "execute_result"
    }
   ],
   "source": [
    "test3_X = datos3X_est.iloc[nfilas_datos2b:,:]\n",
    "print(f'There are {test3_X.shape[0]} observations and {test3_X.shape[1]} features')\n",
    "test3_Y = datos_add.iloc[:,2]\n",
    "#test3_Y1=  test3_Y.replace(to_replace=0,value=-1)\n",
    "test3_Y"
   ]
  },
  {
   "cell_type": "code",
   "execution_count": 14,
   "metadata": {},
   "outputs": [
    {
     "name": "stdout",
     "output_type": "stream",
     "text": [
      "RangeIndex(start=0, stop=520, step=1)\n"
     ]
    }
   ],
   "source": [
    "#train_X= datos2b.iloc[:,7:] #datos sin escalar\n",
    "train_X =  train3_X #datos escalados\n",
    "print(train_X.keys())"
   ]
  },
  {
   "cell_type": "code",
   "execution_count": 15,
   "metadata": {},
   "outputs": [
    {
     "name": "stdout",
     "output_type": "stream",
     "text": [
      "There are 104 observations and 520 features\n"
     ]
    }
   ],
   "source": [
    "#train_Y = datos2b.iloc[:,2]\n",
    "train_Y = train3_Y\n",
    "len(train_Y)\n",
    "print(f'There are {train_X.shape[0]} observations and {train_X.shape[1]} features')"
   ]
  },
  {
   "cell_type": "code",
   "execution_count": 16,
   "metadata": {},
   "outputs": [
    {
     "name": "stdout",
     "output_type": "stream",
     "text": [
      "There are 32 observations and 520 features\n"
     ]
    }
   ],
   "source": [
    "#test_X= datos_add.iloc[:,7:]\n",
    "test_X = test3_X\n",
    "print(f'There are {test_X.shape[0]} observations and {test_X.shape[1]} features')"
   ]
  },
  {
   "cell_type": "code",
   "execution_count": 17,
   "metadata": {},
   "outputs": [
    {
     "data": {
      "text/plain": [
       "32"
      ]
     },
     "execution_count": 17,
     "metadata": {},
     "output_type": "execute_result"
    }
   ],
   "source": [
    "#test_Y = datos_add.iloc[:,2]\n",
    "test_Y = test3_Y\n",
    "len(test_Y)"
   ]
  },
  {
   "cell_type": "code",
   "execution_count": 18,
   "metadata": {},
   "outputs": [
    {
     "name": "stdout",
     "output_type": "stream",
     "text": [
      "520\n"
     ]
    }
   ],
   "source": [
    "# split into input and output columns\n",
    "#X, y = df.values[:, :-1], df.values[:, -1]\n",
    "# ensure all data are floating point values\n",
    "#X = X.astype('float32')\n",
    "# encode strings to integer\n",
    "#y = LabelEncoder().fit_transform(y)\n",
    "# split into train and test datasets\n",
    "#X_train, X_test, y_train, y_test = train_test_split(X, y, test_size=0.33)\n",
    "#print(X_train.shape, X_test.shape, y_train.shape, y_test.shape)\n",
    "\n",
    "\n",
    "# determine the number of input features\n",
    "n_features = train_X.shape[1]\n",
    "print(n_features)"
   ]
  },
  {
   "cell_type": "code",
   "execution_count": 19,
   "metadata": {},
   "outputs": [
    {
     "name": "stdout",
     "output_type": "stream",
     "text": [
      "Model: \"sequential\"\n",
      "_________________________________________________________________\n",
      "Layer (type)                 Output Shape              Param #   \n",
      "=================================================================\n",
      "dense (Dense)                (None, 22)                11462     \n",
      "_________________________________________________________________\n",
      "dense_1 (Dense)              (None, 1)                 23        \n",
      "=================================================================\n",
      "Total params: 11,485\n",
      "Trainable params: 11,485\n",
      "Non-trainable params: 0\n",
      "_________________________________________________________________\n"
     ]
    }
   ],
   "source": [
    "# define model\n",
    "model = Sequential()\n",
    "#model.add(Dense(64, activation='relu', kernel_initializer='he_normal', input_shape=(n_features,)))\n",
    "model.add(Dense(22, activation='relu', kernel_initializer='he_normal', input_shape=(n_features,)))\n",
    "#model.add(Dense(22, activation='relu', kernel_initializer='he_normal'))\n",
    "model.add(Dense(1, activation='sigmoid'))\n",
    "# summarize the model\n",
    "model.summary()"
   ]
  },
  {
   "cell_type": "code",
   "execution_count": 20,
   "metadata": {},
   "outputs": [
    {
     "data": {
      "image/png": "[encoded data removed]",
      "text/plain": [
       "<IPython.core.display.Image object>"
      ]
     },
     "execution_count": 20,
     "metadata": {},
     "output_type": "execute_result"
    }
   ],
   "source": [
    "# plot summarize the model\n",
    "plot_model(model, 'model.png', show_shapes=True)"
   ]
  },
  {
   "cell_type": "code",
   "execution_count": 21,
   "metadata": {},
   "outputs": [],
   "source": [
    "# compile the model\n",
    "model.compile(optimizer='adam', loss='binary_crossentropy', metrics=['accuracy'])\n",
    "#sgd = SGD(learning_rate=0.01, momentum=0.8)\n",
    "#model.compile(optimizer=sgd, loss='binary_crossentropy', metrics=['accuracy'] )\n"
   ]
  },
  {
   "cell_type": "code",
   "execution_count": 22,
   "metadata": {},
   "outputs": [],
   "source": [
    "# fit the model\n",
    "logs = Callback()\n",
    "history = model.fit(train_X, train_Y, epochs=350, batch_size=20, verbose=0, validation_split = 0.3, shuffle= True, callbacks=[logs])\n",
    "#model.fit(train_X, train_Y, epochs=150, batch_size=30, verbose=0, validation_split=0.3)"
   ]
  },
  {
   "cell_type": "code",
   "execution_count": 23,
   "metadata": {},
   "outputs": [
    {
     "name": "stdout",
     "output_type": "stream",
     "text": [
      "Test Accuracy: 1.000\n",
      "Test lost: 0.026\n"
     ]
    }
   ],
   "source": [
    "# evaluate the model\n",
    "loss, acc = model.evaluate(train_X, train_Y, verbose=0)\n",
    "print('Test Accuracy: %.3f' % acc)\n",
    "print('Test lost: %.3f' % loss)\n"
   ]
  },
  {
   "cell_type": "code",
   "execution_count": 30,
   "metadata": {},
   "outputs": [],
   "source": [
    "# predict probabilities for train set\n",
    "ytrain_probs = model.predict(train_X, verbose=0)\n",
    "# predict crisp classes for train set\n",
    "ytrain_classes = model.predict_classes(train_X, verbose=0)"
   ]
  },
  {
   "cell_type": "code",
   "execution_count": 31,
   "metadata": {},
   "outputs": [
    {
     "data": {
      "text/plain": [
       "104"
      ]
     },
     "execution_count": 31,
     "metadata": {},
     "output_type": "execute_result"
    }
   ],
   "source": [
    "len(ytrain_probs)"
   ]
  },
  {
   "cell_type": "code",
   "execution_count": 32,
   "metadata": {},
   "outputs": [],
   "source": [
    "ytr_probs = list()\n",
    "for k in range(len(ytrain_probs)):\n",
    "    ytr_probs.append(ytrain_probs[k][0])\n",
    "    \n",
    "#ytr_probs\n"
   ]
  },
  {
   "cell_type": "code",
   "execution_count": 33,
   "metadata": {},
   "outputs": [],
   "source": [
    "sev=datos2b[1]\n",
    "severity = list()\n",
    "for k in range(len(sev)):\n",
    "    if (sev[k]==0):\n",
    "        severity.append(\"Healthy\")\n",
    "    else:\n",
    "        if (sev[k]==1):\n",
    "            severity.append(\"Pre-symp\")\n",
    "        else:\n",
    "            if (sev[k]==2):\n",
    "                severity.append(\"Sev 1\")\n",
    "            else:\n",
    "                severity.append(\"Sev 2\")"
   ]
  },
  {
   "cell_type": "code",
   "execution_count": 34,
   "metadata": {},
   "outputs": [
    {
     "data": {
      "text/plain": [
       "104"
      ]
     },
     "execution_count": 34,
     "metadata": {},
     "output_type": "execute_result"
    }
   ],
   "source": [
    "len(severity)"
   ]
  },
  {
   "cell_type": "code",
   "execution_count": 35,
   "metadata": {},
   "outputs": [],
   "source": [
    "x=list(range(1,105))"
   ]
  },
  {
   "cell_type": "code",
   "execution_count": 36,
   "metadata": {},
   "outputs": [],
   "source": [
    "df = pd.DataFrame({\"Leaves\":x, \"Y probability\":ytr_probs, 'Severity':severity})"
   ]
  },
  {
   "cell_type": "code",
   "execution_count": 43,
   "metadata": {},
   "outputs": [
    {
     "data": {
      "image/png": "[encoded data removed]",
      "text/plain": [
       "<Figure size 640x480 with 1 Axes>"
      ]
     },
     "metadata": {},
     "output_type": "display_data"
    },
    {
     "name": "stdout",
     "output_type": "stream",
     "text": [
      "<ggplot: (68130081449)>\n"
     ]
    }
   ],
   "source": [
    "g = ggplot(df) + geom_point(aes(x=\"Leaves\", y=\"Y probability\", colour = 'Severity'),size=2) + \\\n",
    "scale_colour_manual(values=[\"green\",\"turquoise\",\"blue\", \"red\"], limits=[\"Healthy\", \"Pre-symp\", \"Sev 1\", \"Sev 2\"]) + \\\n",
    "geom_hline(yintercept=0.5, linetype=\"dashed\", color = \"red\", size=0.7)+ guides(color = guide_legend(order=1))\n",
    "print(g)"
   ]
  },
  {
   "cell_type": "code",
   "execution_count": 44,
   "metadata": {},
   "outputs": [
    {
     "name": "stderr",
     "output_type": "stream",
     "text": [
      "C:\\Users\\Usuario\\AppData\\Roaming\\Python\\Python37\\site-packages\\plotnine\\ggplot.py:729: PlotnineWarning: Saving 6.4 x 4.8 in image.\n",
      "C:\\Users\\Usuario\\AppData\\Roaming\\Python\\Python37\\site-packages\\plotnine\\ggplot.py:730: PlotnineWarning: Filename: D:/ugarte/usal/RIP/estudio doctoral/ACADEMICO USAL/tesis/figuras/figura_ann2_prob1.png\n"
     ]
    }
   ],
   "source": [
    "g.save(\"D:/ugarte/usal/RIP/estudio doctoral/ACADEMICO USAL/tesis/figuras/figura_ann2_prob1.png\")"
   ]
  },
  {
   "cell_type": "code",
   "execution_count": 48,
   "metadata": {},
   "outputs": [
    {
     "name": "stdout",
     "output_type": "stream",
     "text": [
      "              precision    recall  f1-score   support\n",
      "\n",
      "           0       1.00      1.00      1.00        16\n",
      "           1       1.00      1.00      1.00        88\n",
      "\n",
      "    accuracy                           1.00       104\n",
      "   macro avg       1.00      1.00      1.00       104\n",
      "weighted avg       1.00      1.00      1.00       104\n",
      "\n"
     ]
    }
   ],
   "source": [
    "print(classification_report(train_Y, ytrain_classes))"
   ]
  },
  {
   "cell_type": "code",
   "execution_count": 49,
   "metadata": {},
   "outputs": [],
   "source": [
    "c_matrix_cv=confusion_matrix(train_Y, ytrain_classes)"
   ]
  },
  {
   "cell_type": "code",
   "execution_count": 50,
   "metadata": {},
   "outputs": [
    {
     "name": "stdout",
     "output_type": "stream",
     "text": [
      "[[16  0]\n",
      " [ 0 88]]\n"
     ]
    }
   ],
   "source": [
    "print(c_matrix_cv)"
   ]
  },
  {
   "cell_type": "code",
   "execution_count": 51,
   "metadata": {},
   "outputs": [
    {
     "data": {
      "text/plain": [
       "Text(0.5, 42.0, 'Predicted Label')"
      ]
     },
     "execution_count": 51,
     "metadata": {},
     "output_type": "execute_result"
    },
    {
     "data": {
      "image/png": "[encoded data removed]",
      "text/plain": [
       "<Figure size 720x504 with 2 Axes>"
      ]
     },
     "metadata": {
      "needs_background": "light"
     },
     "output_type": "display_data"
    }
   ],
   "source": [
    "#plt.imshow(c_matrix_cv, cmap='binary')\n",
    "#plt.matshow(c_matrix_cv)\n",
    "plt.figure(figsize = (10,7))\n",
    "sns.heatmap(c_matrix_cv, annot=True,annot_kws={\"size\": 16},linewidth = 0.5, cmap=\"Blues\")\n",
    "plt.ylabel('True Label', size = 12)\n",
    "plt.xlabel('Predicted Label', size = 12)"
   ]
  },
  {
   "cell_type": "code",
   "execution_count": 52,
   "metadata": {},
   "outputs": [
    {
     "data": {
      "text/plain": [
       "array(['healthy', 'infected'], dtype='<U8')"
      ]
     },
     "execution_count": 52,
     "metadata": {},
     "output_type": "execute_result"
    }
   ],
   "source": [
    "\n",
    "np.set_printoptions(precision=2)\n",
    "class_names = np.array(('healthy', 'infected'))\n",
    "class_names\n"
   ]
  },
  {
   "cell_type": "code",
   "execution_count": 54,
   "metadata": {},
   "outputs": [
    {
     "name": "stdout",
     "output_type": "stream",
     "text": [
      "Accuracy: 1.000000\n",
      "Precision: 1.000000\n",
      "Recall: 1.000000\n",
      "F1 score: 1.000000\n"
     ]
    }
   ],
   "source": [
    "accuracy = accuracy_score(train_Y, ytrain_classes)\n",
    "print('Accuracy: %f' % accuracy)\n",
    "# precision tp / (tp + fp)\n",
    "precision = precision_score(train_Y, ytrain_classes)\n",
    "print('Precision: %f' % precision)\n",
    "# recall: tp / (tp + fn)\n",
    "recall = recall_score(train_Y, ytrain_classes)\n",
    "print('Recall: %f' % recall)\n",
    "# f1: 2 tp / (2 tp + fp + fn)\n",
    "f1 = f1_score(train_Y, ytrain_classes)\n",
    "print('F1 score: %f' % f1)"
   ]
  },
  {
   "cell_type": "markdown",
   "metadata": {},
   "source": [
    "### evalua dataset de prueba (validacióne xterna)"
   ]
  },
  {
   "cell_type": "code",
   "execution_count": 40,
   "metadata": {},
   "outputs": [
    {
     "name": "stdout",
     "output_type": "stream",
     "text": [
      "Test Accuracy: 0.938\n"
     ]
    }
   ],
   "source": [
    "# evaluate the model\n",
    "loss, acc = model.evaluate(test_X, test_Y, verbose=0)\n",
    "print('Test Accuracy: %.3f' % acc)\n"
   ]
  },
  {
   "cell_type": "code",
   "execution_count": 55,
   "metadata": {},
   "outputs": [
    {
     "data": {
      "text/plain": [
       "32"
      ]
     },
     "execution_count": 55,
     "metadata": {},
     "output_type": "execute_result"
    }
   ],
   "source": [
    "# predict probabilities for train set\n",
    "ytest_probs = model.predict(test_X, verbose=0)\n",
    "# predict crisp classes for train set\n",
    "ytest_classes = model.predict_classes(test_X, verbose=0)\n",
    "len(ytest_probs)"
   ]
  },
  {
   "cell_type": "code",
   "execution_count": 56,
   "metadata": {},
   "outputs": [
    {
     "data": {
      "text/plain": [
       "[5.1113995e-05,\n",
       " 0.0002796865,\n",
       " 0.0016905449,\n",
       " 0.0019086319,\n",
       " 0.0012565911,\n",
       " 0.00080832816,\n",
       " 0.022572692,\n",
       " 0.000867914,\n",
       " 0.41177318,\n",
       " 0.030114686,\n",
       " 0.37505212,\n",
       " 0.032658663,\n",
       " 0.9627966,\n",
       " 0.07139269,\n",
       " 0.9943006,\n",
       " 0.030469304,\n",
       " 0.9999957,\n",
       " 0.93612987,\n",
       " 0.9988875,\n",
       " 0.9891432,\n",
       " 0.9987966,\n",
       " 0.9991627,\n",
       " 0.99963653,\n",
       " 0.9897254,\n",
       " 0.9999949,\n",
       " 0.9996679,\n",
       " 0.9932197,\n",
       " 0.9984555,\n",
       " 0.99678123,\n",
       " 0.9985764,\n",
       " 0.999859,\n",
       " 0.999977]"
      ]
     },
     "execution_count": 56,
     "metadata": {},
     "output_type": "execute_result"
    }
   ],
   "source": [
    "yte_probs = list()\n",
    "for k in range(len(ytest_probs)):\n",
    "    yte_probs.append(ytest_probs[k][0])\n",
    "    \n",
    "yte_probs\n"
   ]
  },
  {
   "cell_type": "code",
   "execution_count": 57,
   "metadata": {},
   "outputs": [
    {
     "name": "stdout",
     "output_type": "stream",
     "text": [
      "32\n"
     ]
    },
    {
     "data": {
      "text/plain": [
       "[1,\n",
       " 2,\n",
       " 3,\n",
       " 4,\n",
       " 5,\n",
       " 6,\n",
       " 7,\n",
       " 8,\n",
       " 9,\n",
       " 10,\n",
       " 11,\n",
       " 12,\n",
       " 13,\n",
       " 14,\n",
       " 15,\n",
       " 16,\n",
       " 17,\n",
       " 18,\n",
       " 19,\n",
       " 20,\n",
       " 21,\n",
       " 22,\n",
       " 23,\n",
       " 24,\n",
       " 25,\n",
       " 26,\n",
       " 27,\n",
       " 28,\n",
       " 29,\n",
       " 30,\n",
       " 31,\n",
       " 32]"
      ]
     },
     "execution_count": 57,
     "metadata": {},
     "output_type": "execute_result"
    }
   ],
   "source": [
    "sev1=datos_add[1]\n",
    "severity = list()\n",
    "for k in range(len(sev1)):\n",
    "    if (sev1[k]==0):\n",
    "        severity.append(\"Healthy\")\n",
    "    else:\n",
    "        if (sev1[k]==1):\n",
    "            severity.append(\"Pre-symp\")\n",
    "        else:\n",
    "            if (sev1[k]==2):\n",
    "                severity.append(\"Sev 1\")\n",
    "            else:\n",
    "                severity.append(\"Sev 2\")\n",
    "    \n",
    "       \n",
    "print(len(severity))\n",
    "x=list(range(1,33))\n",
    "x"
   ]
  },
  {
   "cell_type": "code",
   "execution_count": 58,
   "metadata": {},
   "outputs": [
    {
     "data": {
      "image/png": "[encoded data removed]",
      "text/plain": [
       "<Figure size 640x480 with 1 Axes>"
      ]
     },
     "metadata": {},
     "output_type": "display_data"
    },
    {
     "name": "stdout",
     "output_type": "stream",
     "text": [
      "<ggplot: (68130879671)>\n"
     ]
    }
   ],
   "source": [
    "df = pd.DataFrame({\"Leaves\":x, \"Y probability\":yte_probs, 'Severity':severity})\n",
    "\n",
    "g= ggplot(df) + geom_point(aes(x=\"Leaves\", y=\"Y probability\", colour = 'Severity'),size=2) + \\\n",
    "scale_colour_manual(values=[\"green\",\"turquoise\",\"blue\", \"red\"], limits=[\"Healthy\", \"Pre-symp\", \"Sev 1\", \"Sev 2\"]) + \\\n",
    "geom_hline(yintercept=0.5, linetype=\"dashed\", color = \"red\", size=0.7)+ guides(color = guide_legend(order=1))\n",
    "print(g)\n"
   ]
  },
  {
   "cell_type": "code",
   "execution_count": 64,
   "metadata": {},
   "outputs": [
    {
     "data": {
      "text/html": [
       "<div>\n",
       "<style scoped>\n",
       "    .dataframe tbody tr th:only-of-type {\n",
       "        vertical-align: middle;\n",
       "    }\n",
       "\n",
       "    .dataframe tbody tr th {\n",
       "        vertical-align: top;\n",
       "    }\n",
       "\n",
       "    .dataframe thead th {\n",
       "        text-align: right;\n",
       "    }\n",
       "</style>\n",
       "<table border=\"1\" class=\"dataframe\">\n",
       "  <thead>\n",
       "    <tr style=\"text-align: right;\">\n",
       "      <th></th>\n",
       "      <th>Leaves</th>\n",
       "      <th>Y probability</th>\n",
       "      <th>Severity</th>\n",
       "    </tr>\n",
       "  </thead>\n",
       "  <tbody>\n",
       "    <tr>\n",
       "      <th>0</th>\n",
       "      <td>1</td>\n",
       "      <td>0.000051</td>\n",
       "      <td>Healthy</td>\n",
       "    </tr>\n",
       "    <tr>\n",
       "      <th>1</th>\n",
       "      <td>2</td>\n",
       "      <td>0.000280</td>\n",
       "      <td>Healthy</td>\n",
       "    </tr>\n",
       "    <tr>\n",
       "      <th>2</th>\n",
       "      <td>3</td>\n",
       "      <td>0.001691</td>\n",
       "      <td>Healthy</td>\n",
       "    </tr>\n",
       "    <tr>\n",
       "      <th>3</th>\n",
       "      <td>4</td>\n",
       "      <td>0.001909</td>\n",
       "      <td>Healthy</td>\n",
       "    </tr>\n",
       "    <tr>\n",
       "      <th>4</th>\n",
       "      <td>5</td>\n",
       "      <td>0.001257</td>\n",
       "      <td>Healthy</td>\n",
       "    </tr>\n",
       "    <tr>\n",
       "      <th>5</th>\n",
       "      <td>6</td>\n",
       "      <td>0.000808</td>\n",
       "      <td>Healthy</td>\n",
       "    </tr>\n",
       "    <tr>\n",
       "      <th>6</th>\n",
       "      <td>7</td>\n",
       "      <td>0.022573</td>\n",
       "      <td>Healthy</td>\n",
       "    </tr>\n",
       "    <tr>\n",
       "      <th>7</th>\n",
       "      <td>8</td>\n",
       "      <td>0.000868</td>\n",
       "      <td>Healthy</td>\n",
       "    </tr>\n",
       "    <tr>\n",
       "      <th>8</th>\n",
       "      <td>9</td>\n",
       "      <td>0.411773</td>\n",
       "      <td>Healthy</td>\n",
       "    </tr>\n",
       "    <tr>\n",
       "      <th>9</th>\n",
       "      <td>10</td>\n",
       "      <td>0.030115</td>\n",
       "      <td>Healthy</td>\n",
       "    </tr>\n",
       "    <tr>\n",
       "      <th>10</th>\n",
       "      <td>11</td>\n",
       "      <td>0.375052</td>\n",
       "      <td>Healthy</td>\n",
       "    </tr>\n",
       "    <tr>\n",
       "      <th>11</th>\n",
       "      <td>12</td>\n",
       "      <td>0.032659</td>\n",
       "      <td>Healthy</td>\n",
       "    </tr>\n",
       "    <tr>\n",
       "      <th>12</th>\n",
       "      <td>13</td>\n",
       "      <td>0.962797</td>\n",
       "      <td>Healthy</td>\n",
       "    </tr>\n",
       "    <tr>\n",
       "      <th>13</th>\n",
       "      <td>14</td>\n",
       "      <td>0.071393</td>\n",
       "      <td>Healthy</td>\n",
       "    </tr>\n",
       "    <tr>\n",
       "      <th>14</th>\n",
       "      <td>15</td>\n",
       "      <td>0.994301</td>\n",
       "      <td>Healthy</td>\n",
       "    </tr>\n",
       "    <tr>\n",
       "      <th>15</th>\n",
       "      <td>16</td>\n",
       "      <td>0.030469</td>\n",
       "      <td>Healthy</td>\n",
       "    </tr>\n",
       "    <tr>\n",
       "      <th>16</th>\n",
       "      <td>17</td>\n",
       "      <td>0.999996</td>\n",
       "      <td>Sev 1</td>\n",
       "    </tr>\n",
       "    <tr>\n",
       "      <th>17</th>\n",
       "      <td>18</td>\n",
       "      <td>0.936130</td>\n",
       "      <td>Sev 1</td>\n",
       "    </tr>\n",
       "    <tr>\n",
       "      <th>18</th>\n",
       "      <td>19</td>\n",
       "      <td>0.998887</td>\n",
       "      <td>Sev 1</td>\n",
       "    </tr>\n",
       "    <tr>\n",
       "      <th>19</th>\n",
       "      <td>20</td>\n",
       "      <td>0.989143</td>\n",
       "      <td>Sev 1</td>\n",
       "    </tr>\n",
       "    <tr>\n",
       "      <th>20</th>\n",
       "      <td>21</td>\n",
       "      <td>0.998797</td>\n",
       "      <td>Sev 1</td>\n",
       "    </tr>\n",
       "    <tr>\n",
       "      <th>21</th>\n",
       "      <td>22</td>\n",
       "      <td>0.999163</td>\n",
       "      <td>Sev 1</td>\n",
       "    </tr>\n",
       "    <tr>\n",
       "      <th>22</th>\n",
       "      <td>23</td>\n",
       "      <td>0.999637</td>\n",
       "      <td>Sev 1</td>\n",
       "    </tr>\n",
       "    <tr>\n",
       "      <th>23</th>\n",
       "      <td>24</td>\n",
       "      <td>0.989725</td>\n",
       "      <td>Sev 1</td>\n",
       "    </tr>\n",
       "    <tr>\n",
       "      <th>24</th>\n",
       "      <td>25</td>\n",
       "      <td>0.999995</td>\n",
       "      <td>Sev 1</td>\n",
       "    </tr>\n",
       "    <tr>\n",
       "      <th>25</th>\n",
       "      <td>26</td>\n",
       "      <td>0.999668</td>\n",
       "      <td>Sev 2</td>\n",
       "    </tr>\n",
       "    <tr>\n",
       "      <th>26</th>\n",
       "      <td>27</td>\n",
       "      <td>0.993220</td>\n",
       "      <td>Sev 1</td>\n",
       "    </tr>\n",
       "    <tr>\n",
       "      <th>27</th>\n",
       "      <td>28</td>\n",
       "      <td>0.998456</td>\n",
       "      <td>Sev 2</td>\n",
       "    </tr>\n",
       "    <tr>\n",
       "      <th>28</th>\n",
       "      <td>29</td>\n",
       "      <td>0.996781</td>\n",
       "      <td>Sev 1</td>\n",
       "    </tr>\n",
       "    <tr>\n",
       "      <th>29</th>\n",
       "      <td>30</td>\n",
       "      <td>0.998576</td>\n",
       "      <td>Pre-symp</td>\n",
       "    </tr>\n",
       "    <tr>\n",
       "      <th>30</th>\n",
       "      <td>31</td>\n",
       "      <td>0.999859</td>\n",
       "      <td>Sev 2</td>\n",
       "    </tr>\n",
       "    <tr>\n",
       "      <th>31</th>\n",
       "      <td>32</td>\n",
       "      <td>0.999977</td>\n",
       "      <td>Sev 2</td>\n",
       "    </tr>\n",
       "  </tbody>\n",
       "</table>\n",
       "</div>"
      ],
      "text/plain": [
       "    Leaves  Y probability  Severity\n",
       "0        1       0.000051   Healthy\n",
       "1        2       0.000280   Healthy\n",
       "2        3       0.001691   Healthy\n",
       "3        4       0.001909   Healthy\n",
       "4        5       0.001257   Healthy\n",
       "5        6       0.000808   Healthy\n",
       "6        7       0.022573   Healthy\n",
       "7        8       0.000868   Healthy\n",
       "8        9       0.411773   Healthy\n",
       "9       10       0.030115   Healthy\n",
       "10      11       0.375052   Healthy\n",
       "11      12       0.032659   Healthy\n",
       "12      13       0.962797   Healthy\n",
       "13      14       0.071393   Healthy\n",
       "14      15       0.994301   Healthy\n",
       "15      16       0.030469   Healthy\n",
       "16      17       0.999996     Sev 1\n",
       "17      18       0.936130     Sev 1\n",
       "18      19       0.998887     Sev 1\n",
       "19      20       0.989143     Sev 1\n",
       "20      21       0.998797     Sev 1\n",
       "21      22       0.999163     Sev 1\n",
       "22      23       0.999637     Sev 1\n",
       "23      24       0.989725     Sev 1\n",
       "24      25       0.999995     Sev 1\n",
       "25      26       0.999668     Sev 2\n",
       "26      27       0.993220     Sev 1\n",
       "27      28       0.998456     Sev 2\n",
       "28      29       0.996781     Sev 1\n",
       "29      30       0.998576  Pre-symp\n",
       "30      31       0.999859     Sev 2\n",
       "31      32       0.999977     Sev 2"
      ]
     },
     "execution_count": 64,
     "metadata": {},
     "output_type": "execute_result"
    }
   ],
   "source": [
    "df\n"
   ]
  },
  {
   "cell_type": "code",
   "execution_count": 59,
   "metadata": {},
   "outputs": [
    {
     "name": "stderr",
     "output_type": "stream",
     "text": [
      "C:\\Users\\Usuario\\AppData\\Roaming\\Python\\Python37\\site-packages\\plotnine\\ggplot.py:729: PlotnineWarning: Saving 6.4 x 4.8 in image.\n",
      "C:\\Users\\Usuario\\AppData\\Roaming\\Python\\Python37\\site-packages\\plotnine\\ggplot.py:730: PlotnineWarning: Filename: D:/ugarte/usal/RIP/estudio doctoral/ACADEMICO USAL/tesis/figuras/figura_ann2_prob2.png\n"
     ]
    }
   ],
   "source": [
    "g.save(\"D:/ugarte/usal/RIP/estudio doctoral/ACADEMICO USAL/tesis/figuras/figura_ann2_prob2.png\")"
   ]
  },
  {
   "cell_type": "code",
   "execution_count": 60,
   "metadata": {},
   "outputs": [
    {
     "name": "stdout",
     "output_type": "stream",
     "text": [
      "              precision    recall  f1-score   support\n",
      "\n",
      "           0       1.00      0.88      0.93        16\n",
      "           1       0.89      1.00      0.94        16\n",
      "\n",
      "    accuracy                           0.94        32\n",
      "   macro avg       0.94      0.94      0.94        32\n",
      "weighted avg       0.94      0.94      0.94        32\n",
      "\n"
     ]
    }
   ],
   "source": [
    "print(classification_report(test_Y, ytest_classes))"
   ]
  },
  {
   "cell_type": "code",
   "execution_count": 61,
   "metadata": {},
   "outputs": [
    {
     "name": "stdout",
     "output_type": "stream",
     "text": [
      "[[14  2]\n",
      " [ 0 16]]\n"
     ]
    }
   ],
   "source": [
    "c_matrix_ve=confusion_matrix(test_Y, ytest_classes)\n",
    "print(c_matrix_ve)"
   ]
  },
  {
   "cell_type": "code",
   "execution_count": 63,
   "metadata": {},
   "outputs": [
    {
     "data": {
      "text/plain": [
       "Text(0.5, 42.0, 'Predicted Label')"
      ]
     },
     "execution_count": 63,
     "metadata": {},
     "output_type": "execute_result"
    },
    {
     "data": {
      "image/png": "[encoded data removed]",
      "text/plain": [
       "<Figure size 720x504 with 2 Axes>"
      ]
     },
     "metadata": {
      "needs_background": "light"
     },
     "output_type": "display_data"
    }
   ],
   "source": [
    "plt.figure(figsize = (10,7))\n",
    "sns.heatmap(c_matrix_ve, annot=True,annot_kws={\"size\": 16},linewidth = 0.5, cmap=\"Oranges\")\n",
    "plt.ylabel('True Label', size = 14)\n",
    "plt.xlabel('Predicted Label', size = 14)"
   ]
  },
  {
   "cell_type": "code",
   "execution_count": 26,
   "metadata": {},
   "outputs": [
    {
     "name": "stdout",
     "output_type": "stream",
     "text": [
      "dict_keys(['loss', 'accuracy', 'val_loss', 'val_accuracy'])\n"
     ]
    }
   ],
   "source": [
    "# list all data in history\n",
    "print(history.history.keys())"
   ]
  },
  {
   "cell_type": "code",
   "execution_count": 27,
   "metadata": {},
   "outputs": [
    {
     "data": {
      "image/png": "[encoded data removed]",
      "text/plain": [
       "<Figure size 432x288 with 1 Axes>"
      ]
     },
     "metadata": {
      "needs_background": "light"
     },
     "output_type": "display_data"
    }
   ],
   "source": [
    "# summarize history for accuracy\n",
    "plt.plot(history.history['accuracy'])\n",
    "#plt.plot(history.history['val_accuracy'])\n",
    "plt.title('model accuracy')\n",
    "plt.ylabel('accuracy')\n",
    "plt.xlabel('epoch')\n",
    "plt.legend(['train', 'test'], loc='upper left')\n",
    "\n",
    "plt.show()"
   ]
  },
  {
   "cell_type": "code",
   "execution_count": 28,
   "metadata": {},
   "outputs": [
    {
     "data": {
      "image/png": "[encoded data removed]",
      "text/plain": [
       "<Figure size 432x288 with 1 Axes>"
      ]
     },
     "metadata": {
      "needs_background": "light"
     },
     "output_type": "display_data"
    }
   ],
   "source": [
    "# plot learning curves\n",
    "plt.title('Learning Curves')\n",
    "plt.xlabel('Epoch')\n",
    "plt.ylabel('Cross Entropy')\n",
    "plt.plot(history.history['loss'], label='train')\n",
    "plt.plot(history.history['val_loss'], label='val')\n",
    "plt.legend()\n",
    "plt.show()"
   ]
  },
  {
   "cell_type": "code",
   "execution_count": null,
   "metadata": {},
   "outputs": [],
   "source": []
  }
 ],
 "metadata": {
  "kernelspec": {
   "display_name": "Python 3 (ipykernel)",
   "language": "python",
   "name": "python3"
  },
  "language_info": {
   "codemirror_mode": {
    "name": "ipython",
    "version": 3
   },
   "file_extension": ".py",
   "mimetype": "text/x-python",
   "name": "python",
   "nbconvert_exporter": "python",
   "pygments_lexer": "ipython3",
   "version": "3.9.7"
  }
 },
 "nbformat": 4,
 "nbformat_minor": 2
}
